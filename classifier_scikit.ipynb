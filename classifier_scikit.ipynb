{
 "cells": [
  {
   "cell_type": "code",
   "execution_count": 1,
   "metadata": {},
   "outputs": [],
   "source": [
    "import pandas as pd\n",
    "import numpy as np\n",
    "import matplotlib.pyplot as plt\n",
    "import seaborn as sns\n",
    "import pickle\n",
    "from collections import Counter\n",
    "\n",
    "#from sklearn.datasets import make_classification\n",
    "from sklearn.metrics import roc_auc_score, classification_report, log_loss\n",
    "from sklearn.utils import resample\n",
    "from sklearn.ensemble import GradientBoostingClassifier\n",
    "from sklearn.ensemble import RandomForestClassifier\n",
    "from sklearn.model_selection import RandomizedSearchCV\n",
    "from sklearn.model_selection import train_test_split\n",
    "import scikitplot as skplt\n",
    "\n",
    "import xgboost as xgb\n",
    "#from xgboost import XGBClassifier"
   ]
  },
  {
   "cell_type": "raw",
   "metadata": {},
   "source": [
    "with open(\"aapl_df_labels.pickle\", \"rb\") as f:\n",
    "        df = pickle.load(f)"
   ]
  },
  {
   "cell_type": "code",
   "execution_count": 2135,
   "metadata": {},
   "outputs": [],
   "source": [
    "#df_news = pd.read_pickle('/Users/otar/Google Drive/StocksAndNews/News.pkl')\n",
    "df_news = pd.read_csv('/Users/otar/Google Drive/StocksAndNews/News.csv')\n",
    "df_prices = pd.read_csv('/Users/otar/Google Drive/StocksAndNews/Prices_with_Trends.csv')"
   ]
  },
  {
   "cell_type": "code",
   "execution_count": 2136,
   "metadata": {},
   "outputs": [
    {
     "data": {
      "text/plain": [
       "((93706, 12), (659410, 12))"
      ]
     },
     "execution_count": 2136,
     "metadata": {},
     "output_type": "execute_result"
    }
   ],
   "source": [
    "df_news.shape, df_prices.shape"
   ]
  },
  {
   "cell_type": "code",
   "execution_count": 2137,
   "metadata": {},
   "outputs": [
    {
     "data": {
      "text/html": [
       "<div>\n",
       "<style scoped>\n",
       "    .dataframe tbody tr th:only-of-type {\n",
       "        vertical-align: middle;\n",
       "    }\n",
       "\n",
       "    .dataframe tbody tr th {\n",
       "        vertical-align: top;\n",
       "    }\n",
       "\n",
       "    .dataframe thead th {\n",
       "        text-align: right;\n",
       "    }\n",
       "</style>\n",
       "<table border=\"1\" class=\"dataframe\">\n",
       "  <thead>\n",
       "    <tr style=\"text-align: right;\">\n",
       "      <th></th>\n",
       "      <th>ticker</th>\n",
       "      <th>release_date</th>\n",
       "      <th>level_0</th>\n",
       "      <th>index</th>\n",
       "      <th>id</th>\n",
       "      <th>article_id</th>\n",
       "      <th>neg</th>\n",
       "      <th>neu</th>\n",
       "      <th>pos</th>\n",
       "      <th>compound</th>\n",
       "      <th>news_amount</th>\n",
       "      <th>comp_aggr</th>\n",
       "    </tr>\n",
       "  </thead>\n",
       "  <tbody>\n",
       "    <tr>\n",
       "      <th>93701</th>\n",
       "      <td>AMD</td>\n",
       "      <td>2020-02-05</td>\n",
       "      <td>179242.000000</td>\n",
       "      <td>220352.000000</td>\n",
       "      <td>441868.000000</td>\n",
       "      <td>1.012906e+08</td>\n",
       "      <td>0.0000</td>\n",
       "      <td>0.907500</td>\n",
       "      <td>0.092500</td>\n",
       "      <td>0.1806</td>\n",
       "      <td>2</td>\n",
       "      <td>0.3612</td>\n",
       "    </tr>\n",
       "    <tr>\n",
       "      <th>93702</th>\n",
       "      <td>AMD</td>\n",
       "      <td>2020-02-06</td>\n",
       "      <td>179197.500000</td>\n",
       "      <td>220307.500000</td>\n",
       "      <td>441823.500000</td>\n",
       "      <td>2.077960e+06</td>\n",
       "      <td>0.1755</td>\n",
       "      <td>0.665500</td>\n",
       "      <td>0.159000</td>\n",
       "      <td>0.1175</td>\n",
       "      <td>2</td>\n",
       "      <td>0.2350</td>\n",
       "    </tr>\n",
       "    <tr>\n",
       "      <th>93703</th>\n",
       "      <td>AMD</td>\n",
       "      <td>2020-02-11</td>\n",
       "      <td>179259.333333</td>\n",
       "      <td>220369.333333</td>\n",
       "      <td>441885.333333</td>\n",
       "      <td>1.343647e+08</td>\n",
       "      <td>0.0000</td>\n",
       "      <td>0.840333</td>\n",
       "      <td>0.159667</td>\n",
       "      <td>0.1858</td>\n",
       "      <td>3</td>\n",
       "      <td>0.5574</td>\n",
       "    </tr>\n",
       "    <tr>\n",
       "      <th>93704</th>\n",
       "      <td>AMD</td>\n",
       "      <td>2020-02-12</td>\n",
       "      <td>179291.000000</td>\n",
       "      <td>220401.000000</td>\n",
       "      <td>441917.000000</td>\n",
       "      <td>2.005071e+08</td>\n",
       "      <td>0.0000</td>\n",
       "      <td>0.833000</td>\n",
       "      <td>0.167000</td>\n",
       "      <td>0.2023</td>\n",
       "      <td>1</td>\n",
       "      <td>0.2023</td>\n",
       "    </tr>\n",
       "    <tr>\n",
       "      <th>93705</th>\n",
       "      <td>AMD</td>\n",
       "      <td>2020-02-13</td>\n",
       "      <td>179292.000000</td>\n",
       "      <td>220402.000000</td>\n",
       "      <td>441918.000000</td>\n",
       "      <td>2.005073e+08</td>\n",
       "      <td>0.3360</td>\n",
       "      <td>0.479000</td>\n",
       "      <td>0.185000</td>\n",
       "      <td>-0.2960</td>\n",
       "      <td>1</td>\n",
       "      <td>-0.2960</td>\n",
       "    </tr>\n",
       "  </tbody>\n",
       "</table>\n",
       "</div>"
      ],
      "text/plain": [
       "      ticker release_date        level_0          index             id  \\\n",
       "93701    AMD   2020-02-05  179242.000000  220352.000000  441868.000000   \n",
       "93702    AMD   2020-02-06  179197.500000  220307.500000  441823.500000   \n",
       "93703    AMD   2020-02-11  179259.333333  220369.333333  441885.333333   \n",
       "93704    AMD   2020-02-12  179291.000000  220401.000000  441917.000000   \n",
       "93705    AMD   2020-02-13  179292.000000  220402.000000  441918.000000   \n",
       "\n",
       "         article_id     neg       neu       pos  compound  news_amount  \\\n",
       "93701  1.012906e+08  0.0000  0.907500  0.092500    0.1806            2   \n",
       "93702  2.077960e+06  0.1755  0.665500  0.159000    0.1175            2   \n",
       "93703  1.343647e+08  0.0000  0.840333  0.159667    0.1858            3   \n",
       "93704  2.005071e+08  0.0000  0.833000  0.167000    0.2023            1   \n",
       "93705  2.005073e+08  0.3360  0.479000  0.185000   -0.2960            1   \n",
       "\n",
       "       comp_aggr  \n",
       "93701     0.3612  \n",
       "93702     0.2350  \n",
       "93703     0.5574  \n",
       "93704     0.2023  \n",
       "93705    -0.2960  "
      ]
     },
     "execution_count": 2137,
     "metadata": {},
     "output_type": "execute_result"
    }
   ],
   "source": [
    "df_news.tail()"
   ]
  },
  {
   "cell_type": "code",
   "execution_count": 2138,
   "metadata": {},
   "outputs": [
    {
     "data": {
      "text/html": [
       "<div>\n",
       "<style scoped>\n",
       "    .dataframe tbody tr th:only-of-type {\n",
       "        vertical-align: middle;\n",
       "    }\n",
       "\n",
       "    .dataframe tbody tr th {\n",
       "        vertical-align: top;\n",
       "    }\n",
       "\n",
       "    .dataframe thead th {\n",
       "        text-align: right;\n",
       "    }\n",
       "</style>\n",
       "<table border=\"1\" class=\"dataframe\">\n",
       "  <thead>\n",
       "    <tr style=\"text-align: right;\">\n",
       "      <th></th>\n",
       "      <th>Unnamed: 0</th>\n",
       "      <th>Date</th>\n",
       "      <th>High</th>\n",
       "      <th>Low</th>\n",
       "      <th>Open</th>\n",
       "      <th>Close</th>\n",
       "      <th>Volume</th>\n",
       "      <th>Adj Close</th>\n",
       "      <th>ticker</th>\n",
       "      <th>Next_day</th>\n",
       "      <th>Next_week</th>\n",
       "      <th>Next_month</th>\n",
       "    </tr>\n",
       "  </thead>\n",
       "  <tbody>\n",
       "    <tr>\n",
       "      <th>659405</th>\n",
       "      <td>659405</td>\n",
       "      <td>2020-02-07</td>\n",
       "      <td>50.669998</td>\n",
       "      <td>48.639999</td>\n",
       "      <td>48.910000</td>\n",
       "      <td>49.730000</td>\n",
       "      <td>53107600.0</td>\n",
       "      <td>49.730000</td>\n",
       "      <td>AMD</td>\n",
       "      <td>50.994999</td>\n",
       "      <td>52.841999</td>\n",
       "      <td>52.841999</td>\n",
       "    </tr>\n",
       "    <tr>\n",
       "      <th>659406</th>\n",
       "      <td>659406</td>\n",
       "      <td>2020-02-10</td>\n",
       "      <td>52.299999</td>\n",
       "      <td>49.349998</td>\n",
       "      <td>49.470001</td>\n",
       "      <td>52.259998</td>\n",
       "      <td>60971700.0</td>\n",
       "      <td>52.259998</td>\n",
       "      <td>AMD</td>\n",
       "      <td>53.029999</td>\n",
       "      <td>53.619999</td>\n",
       "      <td>53.619999</td>\n",
       "    </tr>\n",
       "    <tr>\n",
       "      <th>659407</th>\n",
       "      <td>659407</td>\n",
       "      <td>2020-02-11</td>\n",
       "      <td>54.480000</td>\n",
       "      <td>52.910000</td>\n",
       "      <td>53.220001</td>\n",
       "      <td>53.799999</td>\n",
       "      <td>74719100.0</td>\n",
       "      <td>53.799999</td>\n",
       "      <td>AMD</td>\n",
       "      <td>53.844999</td>\n",
       "      <td>54.073332</td>\n",
       "      <td>54.073332</td>\n",
       "    </tr>\n",
       "    <tr>\n",
       "      <th>659408</th>\n",
       "      <td>659408</td>\n",
       "      <td>2020-02-12</td>\n",
       "      <td>54.849998</td>\n",
       "      <td>53.529999</td>\n",
       "      <td>54.529999</td>\n",
       "      <td>53.889999</td>\n",
       "      <td>45994900.0</td>\n",
       "      <td>53.889999</td>\n",
       "      <td>AMD</td>\n",
       "      <td>54.209999</td>\n",
       "      <td>54.209999</td>\n",
       "      <td>54.209999</td>\n",
       "    </tr>\n",
       "    <tr>\n",
       "      <th>659409</th>\n",
       "      <td>659409</td>\n",
       "      <td>2020-02-13</td>\n",
       "      <td>55.029999</td>\n",
       "      <td>53.340000</td>\n",
       "      <td>53.430000</td>\n",
       "      <td>54.529999</td>\n",
       "      <td>51640000.0</td>\n",
       "      <td>54.529999</td>\n",
       "      <td>AMD</td>\n",
       "      <td>54.529999</td>\n",
       "      <td>54.529999</td>\n",
       "      <td>54.529999</td>\n",
       "    </tr>\n",
       "  </tbody>\n",
       "</table>\n",
       "</div>"
      ],
      "text/plain": [
       "        Unnamed: 0        Date       High        Low       Open      Close  \\\n",
       "659405      659405  2020-02-07  50.669998  48.639999  48.910000  49.730000   \n",
       "659406      659406  2020-02-10  52.299999  49.349998  49.470001  52.259998   \n",
       "659407      659407  2020-02-11  54.480000  52.910000  53.220001  53.799999   \n",
       "659408      659408  2020-02-12  54.849998  53.529999  54.529999  53.889999   \n",
       "659409      659409  2020-02-13  55.029999  53.340000  53.430000  54.529999   \n",
       "\n",
       "            Volume  Adj Close ticker   Next_day  Next_week  Next_month  \n",
       "659405  53107600.0  49.730000    AMD  50.994999  52.841999   52.841999  \n",
       "659406  60971700.0  52.259998    AMD  53.029999  53.619999   53.619999  \n",
       "659407  74719100.0  53.799999    AMD  53.844999  54.073332   54.073332  \n",
       "659408  45994900.0  53.889999    AMD  54.209999  54.209999   54.209999  \n",
       "659409  51640000.0  54.529999    AMD  54.529999  54.529999   54.529999  "
      ]
     },
     "execution_count": 2138,
     "metadata": {},
     "output_type": "execute_result"
    }
   ],
   "source": [
    "df_prices.tail()"
   ]
  },
  {
   "cell_type": "code",
   "execution_count": 2139,
   "metadata": {},
   "outputs": [],
   "source": [
    "# drop unnamed columns\n",
    "#df_prices.drop(df_prices.columns[df_prices.columns.str.contains('unnamed',case = False)],axis = 1, inplace = True)"
   ]
  },
  {
   "cell_type": "code",
   "execution_count": 2140,
   "metadata": {},
   "outputs": [
    {
     "data": {
      "text/plain": [
       "758"
      ]
     },
     "execution_count": 2140,
     "metadata": {},
     "output_type": "execute_result"
    }
   ],
   "source": [
    "len(df_news.ticker.unique())"
   ]
  },
  {
   "cell_type": "raw",
   "metadata": {},
   "source": [
    "df_test = df_news[df_news.ticker=='NIO'].reset_index()\n",
    "df_test.tail()"
   ]
  },
  {
   "cell_type": "raw",
   "metadata": {},
   "source": [
    "df_test['30ma_comp'] = df_test['comp_aggr'].rolling(window=30, min_periods=0).mean()\n",
    "df_test['7ma_comp'] = df_test['comp_aggr'].rolling(window=7, min_periods=0).mean()\n",
    "df_test['2ma_comp'] = df_test['comp_aggr'].rolling(window=2, min_periods=0).mean()\n",
    "df_test.tail()"
   ]
  },
  {
   "cell_type": "code",
   "execution_count": 2141,
   "metadata": {},
   "outputs": [],
   "source": [
    "#df_news.drop(['level_0'],axis=1, inplace=True)"
   ]
  },
  {
   "cell_type": "code",
   "execution_count": 2438,
   "metadata": {},
   "outputs": [
    {
     "name": "stdout",
     "output_type": "stream",
     "text": [
      "CPU times: user 1min 40s, sys: 41.7 s, total: 2min 21s\n",
      "Wall time: 2min 25s\n"
     ]
    }
   ],
   "source": [
    "%%time\n",
    "# calculate present/past trend for stock prices\n",
    "tickers = df_news.ticker.unique()\n",
    "#tickers = ['AMD', 'AAPL']\n",
    "df_prices_new = pd.DataFrame()\n",
    "for i in tickers:\n",
    "    df_test = df_prices[df_prices.ticker==i].reset_index()\n",
    "    df_test['100ma_pct'] = (df_test['Adj Close'] - \n",
    "                       df_test['Adj Close'].rolling(window=100, min_periods=0).mean()) / df_test['Adj Close']    \n",
    "    df_test['60ma_pct'] = (df_test['Adj Close'] - \n",
    "                       df_test['Adj Close'].rolling(window=60, min_periods=0).mean()) / df_test['Adj Close']\n",
    "    df_test['30ma_pct'] = (df_test['Adj Close'] - \n",
    "                       df_test['Adj Close'].rolling(window=30, min_periods=0).mean()) / df_test['Adj Close']\n",
    "    df_test['7ma_pct'] = (df_test['Adj Close'] - \n",
    "                      df_test['Adj Close'].rolling(window=7, min_periods=0).mean()) / df_test['Adj Close']\n",
    "    df_test['2ma_pct'] = (df_test['Adj Close'] - \n",
    "                      df_test['Adj Close'].rolling(window=2, min_periods=0).mean()) / df_test['Adj Close']\n",
    "    \n",
    "    df_test['100ma'] = df_test['Adj Close'].rolling(window=100, min_periods=0).mean()    \n",
    "    df_test['60ma'] = df_test['Adj Close'].rolling(window=60, min_periods=0).mean()\n",
    "    df_test['30ma'] = df_test['Adj Close'].rolling(window=30, min_periods=0).mean()\n",
    "    df_test['7ma'] = df_test['Adj Close'].rolling(window=7, min_periods=0).mean()\n",
    "    df_test['2ma'] = df_test['Adj Close'].rolling(window=2, min_periods=0).mean()\n",
    "    \n",
    "    df_test['30ma_vol'] = df_test['Volume'].rolling(window=30, min_periods=0).mean()\n",
    "    df_test['7ma_vol'] = df_test['Volume'].rolling(window=7, min_periods=0).mean()\n",
    "    df_test['2ma_vol'] = df_test['Volume'].rolling(window=2, min_periods=0).mean()\n",
    "    \n",
    "    if df_prices_new.empty:\n",
    "        df_prices_new = df_test\n",
    "    else:\n",
    "        df_prices_new = df_prices_new.append(df_test, ignore_index=True, sort=False)"
   ]
  },
  {
   "cell_type": "code",
   "execution_count": 2439,
   "metadata": {},
   "outputs": [
    {
     "data": {
      "text/html": [
       "<div>\n",
       "<style scoped>\n",
       "    .dataframe tbody tr th:only-of-type {\n",
       "        vertical-align: middle;\n",
       "    }\n",
       "\n",
       "    .dataframe tbody tr th {\n",
       "        vertical-align: top;\n",
       "    }\n",
       "\n",
       "    .dataframe thead th {\n",
       "        text-align: right;\n",
       "    }\n",
       "</style>\n",
       "<table border=\"1\" class=\"dataframe\">\n",
       "  <thead>\n",
       "    <tr style=\"text-align: right;\">\n",
       "      <th></th>\n",
       "      <th>index</th>\n",
       "      <th>Date</th>\n",
       "      <th>High</th>\n",
       "      <th>Low</th>\n",
       "      <th>Open</th>\n",
       "      <th>Close</th>\n",
       "      <th>Volume</th>\n",
       "      <th>Adj Close</th>\n",
       "      <th>ticker</th>\n",
       "      <th>Next_day</th>\n",
       "      <th>...</th>\n",
       "      <th>7ma_pct</th>\n",
       "      <th>2ma_pct</th>\n",
       "      <th>100ma</th>\n",
       "      <th>60ma</th>\n",
       "      <th>30ma</th>\n",
       "      <th>7ma</th>\n",
       "      <th>2ma</th>\n",
       "      <th>30ma_vol</th>\n",
       "      <th>7ma_vol</th>\n",
       "      <th>2ma_vol</th>\n",
       "    </tr>\n",
       "  </thead>\n",
       "  <tbody>\n",
       "    <tr>\n",
       "      <th>0</th>\n",
       "      <td>0</td>\n",
       "      <td>2018-09-12</td>\n",
       "      <td>6.93</td>\n",
       "      <td>5.35</td>\n",
       "      <td>6.00</td>\n",
       "      <td>6.60</td>\n",
       "      <td>66849000.0</td>\n",
       "      <td>6.60</td>\n",
       "      <td>NIO</td>\n",
       "      <td>9.10</td>\n",
       "      <td>...</td>\n",
       "      <td>0.000000</td>\n",
       "      <td>0.000000</td>\n",
       "      <td>6.600000</td>\n",
       "      <td>6.600000</td>\n",
       "      <td>6.600000</td>\n",
       "      <td>6.600000</td>\n",
       "      <td>6.60</td>\n",
       "      <td>6.684900e+07</td>\n",
       "      <td>6.684900e+07</td>\n",
       "      <td>66849000.0</td>\n",
       "    </tr>\n",
       "    <tr>\n",
       "      <th>1</th>\n",
       "      <td>1</td>\n",
       "      <td>2018-09-13</td>\n",
       "      <td>12.69</td>\n",
       "      <td>6.52</td>\n",
       "      <td>6.62</td>\n",
       "      <td>11.60</td>\n",
       "      <td>158346500.0</td>\n",
       "      <td>11.60</td>\n",
       "      <td>NIO</td>\n",
       "      <td>10.75</td>\n",
       "      <td>...</td>\n",
       "      <td>0.215517</td>\n",
       "      <td>0.215517</td>\n",
       "      <td>9.100000</td>\n",
       "      <td>9.100000</td>\n",
       "      <td>9.100000</td>\n",
       "      <td>9.100000</td>\n",
       "      <td>9.10</td>\n",
       "      <td>1.125978e+08</td>\n",
       "      <td>1.125978e+08</td>\n",
       "      <td>112597750.0</td>\n",
       "    </tr>\n",
       "    <tr>\n",
       "      <th>2</th>\n",
       "      <td>2</td>\n",
       "      <td>2018-09-14</td>\n",
       "      <td>13.80</td>\n",
       "      <td>9.22</td>\n",
       "      <td>12.66</td>\n",
       "      <td>9.90</td>\n",
       "      <td>172473600.0</td>\n",
       "      <td>9.90</td>\n",
       "      <td>NIO</td>\n",
       "      <td>9.20</td>\n",
       "      <td>...</td>\n",
       "      <td>0.053872</td>\n",
       "      <td>-0.085859</td>\n",
       "      <td>9.366667</td>\n",
       "      <td>9.366667</td>\n",
       "      <td>9.366667</td>\n",
       "      <td>9.366667</td>\n",
       "      <td>10.75</td>\n",
       "      <td>1.325564e+08</td>\n",
       "      <td>1.325564e+08</td>\n",
       "      <td>165410050.0</td>\n",
       "    </tr>\n",
       "    <tr>\n",
       "      <th>3</th>\n",
       "      <td>3</td>\n",
       "      <td>2018-09-17</td>\n",
       "      <td>9.75</td>\n",
       "      <td>8.50</td>\n",
       "      <td>9.61</td>\n",
       "      <td>8.50</td>\n",
       "      <td>56323900.0</td>\n",
       "      <td>8.50</td>\n",
       "      <td>NIO</td>\n",
       "      <td>8.09</td>\n",
       "      <td>...</td>\n",
       "      <td>-0.076471</td>\n",
       "      <td>-0.082353</td>\n",
       "      <td>9.150000</td>\n",
       "      <td>9.150000</td>\n",
       "      <td>9.150000</td>\n",
       "      <td>9.150000</td>\n",
       "      <td>9.20</td>\n",
       "      <td>1.134982e+08</td>\n",
       "      <td>1.134982e+08</td>\n",
       "      <td>114398750.0</td>\n",
       "    </tr>\n",
       "    <tr>\n",
       "      <th>4</th>\n",
       "      <td>4</td>\n",
       "      <td>2018-09-18</td>\n",
       "      <td>9.10</td>\n",
       "      <td>7.67</td>\n",
       "      <td>8.73</td>\n",
       "      <td>7.68</td>\n",
       "      <td>41827600.0</td>\n",
       "      <td>7.68</td>\n",
       "      <td>NIO</td>\n",
       "      <td>8.09</td>\n",
       "      <td>...</td>\n",
       "      <td>-0.153125</td>\n",
       "      <td>-0.053385</td>\n",
       "      <td>8.856000</td>\n",
       "      <td>8.856000</td>\n",
       "      <td>8.856000</td>\n",
       "      <td>8.856000</td>\n",
       "      <td>8.09</td>\n",
       "      <td>9.916412e+07</td>\n",
       "      <td>9.916412e+07</td>\n",
       "      <td>49075750.0</td>\n",
       "    </tr>\n",
       "  </tbody>\n",
       "</table>\n",
       "<p>5 rows × 25 columns</p>\n",
       "</div>"
      ],
      "text/plain": [
       "   index        Date   High   Low   Open  Close       Volume  Adj Close  \\\n",
       "0      0  2018-09-12   6.93  5.35   6.00   6.60   66849000.0       6.60   \n",
       "1      1  2018-09-13  12.69  6.52   6.62  11.60  158346500.0      11.60   \n",
       "2      2  2018-09-14  13.80  9.22  12.66   9.90  172473600.0       9.90   \n",
       "3      3  2018-09-17   9.75  8.50   9.61   8.50   56323900.0       8.50   \n",
       "4      4  2018-09-18   9.10  7.67   8.73   7.68   41827600.0       7.68   \n",
       "\n",
       "  ticker  Next_day  ...   7ma_pct   2ma_pct     100ma      60ma      30ma  \\\n",
       "0    NIO      9.10  ...  0.000000  0.000000  6.600000  6.600000  6.600000   \n",
       "1    NIO     10.75  ...  0.215517  0.215517  9.100000  9.100000  9.100000   \n",
       "2    NIO      9.20  ...  0.053872 -0.085859  9.366667  9.366667  9.366667   \n",
       "3    NIO      8.09  ... -0.076471 -0.082353  9.150000  9.150000  9.150000   \n",
       "4    NIO      8.09  ... -0.153125 -0.053385  8.856000  8.856000  8.856000   \n",
       "\n",
       "        7ma    2ma      30ma_vol       7ma_vol      2ma_vol  \n",
       "0  6.600000   6.60  6.684900e+07  6.684900e+07   66849000.0  \n",
       "1  9.100000   9.10  1.125978e+08  1.125978e+08  112597750.0  \n",
       "2  9.366667  10.75  1.325564e+08  1.325564e+08  165410050.0  \n",
       "3  9.150000   9.20  1.134982e+08  1.134982e+08  114398750.0  \n",
       "4  8.856000   8.09  9.916412e+07  9.916412e+07   49075750.0  \n",
       "\n",
       "[5 rows x 25 columns]"
      ]
     },
     "execution_count": 2439,
     "metadata": {},
     "output_type": "execute_result"
    }
   ],
   "source": [
    "#df_test[df_test.ticker=='AMD']\n",
    "#df_prices_new.head()\n",
    "#df_prices_new.drop(['index'],axis=1, inplace=True)\n",
    "df_prices_new.head()\n",
    "#df_prices_new.Close.describe()\n",
    "#df_prices_new[df_prices_new.ticker=='AAPL']"
   ]
  },
  {
   "cell_type": "code",
   "execution_count": 2440,
   "metadata": {},
   "outputs": [
    {
     "data": {
      "text/plain": [
       "(659410, 25)"
      ]
     },
     "execution_count": 2440,
     "metadata": {},
     "output_type": "execute_result"
    }
   ],
   "source": [
    "df_prices_new.shape"
   ]
  },
  {
   "cell_type": "code",
   "execution_count": 2441,
   "metadata": {},
   "outputs": [
    {
     "data": {
      "text/html": [
       "<div>\n",
       "<style scoped>\n",
       "    .dataframe tbody tr th:only-of-type {\n",
       "        vertical-align: middle;\n",
       "    }\n",
       "\n",
       "    .dataframe tbody tr th {\n",
       "        vertical-align: top;\n",
       "    }\n",
       "\n",
       "    .dataframe thead th {\n",
       "        text-align: right;\n",
       "    }\n",
       "</style>\n",
       "<table border=\"1\" class=\"dataframe\">\n",
       "  <thead>\n",
       "    <tr style=\"text-align: right;\">\n",
       "      <th></th>\n",
       "      <th>ticker</th>\n",
       "      <th>release_date</th>\n",
       "      <th>index</th>\n",
       "      <th>id</th>\n",
       "      <th>article_id</th>\n",
       "      <th>neg</th>\n",
       "      <th>neu</th>\n",
       "      <th>pos</th>\n",
       "      <th>compound</th>\n",
       "      <th>news_amount</th>\n",
       "      <th>comp_aggr</th>\n",
       "    </tr>\n",
       "  </thead>\n",
       "  <tbody>\n",
       "    <tr>\n",
       "      <th>0</th>\n",
       "      <td>NIO</td>\n",
       "      <td>2018-09-12</td>\n",
       "      <td>62.0</td>\n",
       "      <td>221577.0</td>\n",
       "      <td>1606489.0</td>\n",
       "      <td>0.0</td>\n",
       "      <td>1.0</td>\n",
       "      <td>0.0</td>\n",
       "      <td>0.0</td>\n",
       "      <td>1</td>\n",
       "      <td>0.0</td>\n",
       "    </tr>\n",
       "    <tr>\n",
       "      <th>1</th>\n",
       "      <td>NIO</td>\n",
       "      <td>2018-09-14</td>\n",
       "      <td>61.0</td>\n",
       "      <td>221576.0</td>\n",
       "      <td>1610808.0</td>\n",
       "      <td>0.0</td>\n",
       "      <td>1.0</td>\n",
       "      <td>0.0</td>\n",
       "      <td>0.0</td>\n",
       "      <td>1</td>\n",
       "      <td>0.0</td>\n",
       "    </tr>\n",
       "    <tr>\n",
       "      <th>2</th>\n",
       "      <td>NIO</td>\n",
       "      <td>2018-09-24</td>\n",
       "      <td>60.0</td>\n",
       "      <td>221575.0</td>\n",
       "      <td>1621487.0</td>\n",
       "      <td>0.0</td>\n",
       "      <td>1.0</td>\n",
       "      <td>0.0</td>\n",
       "      <td>0.0</td>\n",
       "      <td>1</td>\n",
       "      <td>0.0</td>\n",
       "    </tr>\n",
       "    <tr>\n",
       "      <th>3</th>\n",
       "      <td>NIO</td>\n",
       "      <td>2018-10-03</td>\n",
       "      <td>54.0</td>\n",
       "      <td>221569.0</td>\n",
       "      <td>1632123.0</td>\n",
       "      <td>0.0</td>\n",
       "      <td>1.0</td>\n",
       "      <td>0.0</td>\n",
       "      <td>0.0</td>\n",
       "      <td>1</td>\n",
       "      <td>0.0</td>\n",
       "    </tr>\n",
       "    <tr>\n",
       "      <th>4</th>\n",
       "      <td>NIO</td>\n",
       "      <td>2018-10-09</td>\n",
       "      <td>75.0</td>\n",
       "      <td>221590.0</td>\n",
       "      <td>1637643.0</td>\n",
       "      <td>0.0</td>\n",
       "      <td>1.0</td>\n",
       "      <td>0.0</td>\n",
       "      <td>0.0</td>\n",
       "      <td>1</td>\n",
       "      <td>0.0</td>\n",
       "    </tr>\n",
       "  </tbody>\n",
       "</table>\n",
       "</div>"
      ],
      "text/plain": [
       "  ticker release_date  index        id  article_id  neg  neu  pos  compound  \\\n",
       "0    NIO   2018-09-12   62.0  221577.0   1606489.0  0.0  1.0  0.0       0.0   \n",
       "1    NIO   2018-09-14   61.0  221576.0   1610808.0  0.0  1.0  0.0       0.0   \n",
       "2    NIO   2018-09-24   60.0  221575.0   1621487.0  0.0  1.0  0.0       0.0   \n",
       "3    NIO   2018-10-03   54.0  221569.0   1632123.0  0.0  1.0  0.0       0.0   \n",
       "4    NIO   2018-10-09   75.0  221590.0   1637643.0  0.0  1.0  0.0       0.0   \n",
       "\n",
       "   news_amount  comp_aggr  \n",
       "0            1        0.0  \n",
       "1            1        0.0  \n",
       "2            1        0.0  \n",
       "3            1        0.0  \n",
       "4            1        0.0  "
      ]
     },
     "execution_count": 2441,
     "metadata": {},
     "output_type": "execute_result"
    }
   ],
   "source": [
    "df_news.head()"
   ]
  },
  {
   "cell_type": "code",
   "execution_count": 2442,
   "metadata": {},
   "outputs": [
    {
     "name": "stdout",
     "output_type": "stream",
     "text": [
      "CPU times: user 47.5 s, sys: 7.21 s, total: 54.7 s\n",
      "Wall time: 55.3 s\n"
     ]
    }
   ],
   "source": [
    "%%time\n",
    "# append and merge df_news and df_prices for all tickers\n",
    "tickers = df_news.ticker.unique()\n",
    "#tickers = ['AMD', 'AAPL']\n",
    "main_df = pd.DataFrame()\n",
    "for j in tickers:\n",
    "    temp_news = df_news[df_news.ticker==j].reset_index()\n",
    "    # calculate moving average of comp_aggr\n",
    "    temp_news['30ma_comp'] = temp_news['comp_aggr'].rolling(window=30, min_periods=0).mean()\n",
    "    temp_news['7ma_comp'] = temp_news['comp_aggr'].rolling(window=7, min_periods=0).mean()\n",
    "    temp_news['2ma_comp'] = temp_news['comp_aggr'].rolling(window=2, min_periods=0).mean()\n",
    "    \n",
    "    temp_news.set_index('release_date', inplace=True)\n",
    "    \n",
    "    temp_prices = df_prices_new[df_prices_new.ticker==j].reset_index()\n",
    "    #temp_prices['30ma_vol'] = temp_prices['Volume'].rolling(window=30, min_periods=0).mean()\n",
    "    #temp_prices['7ma_vol'] = temp_prices['Volume'].rolling(window=7, min_periods=0).mean()\n",
    "    #temp_prices['2ma_vol'] = temp_prices['Volume'].rolling(window=2, min_periods=0).mean()\n",
    "    temp_prices.set_index('Date', inplace=True)\n",
    "    \n",
    "    temp_df = temp_news.merge(temp_prices, how='inner', left_index=True, right_index=True)\n",
    "    if main_df.empty:\n",
    "        main_df = temp_df.reset_index()\n",
    "    else:\n",
    "        main_df = main_df.append(temp_df.reset_index(), ignore_index=False, sort=False)"
   ]
  },
  {
   "cell_type": "code",
   "execution_count": 661,
   "metadata": {},
   "outputs": [],
   "source": [
    "#temp_prices.set_index('Date', inplace=True)"
   ]
  },
  {
   "cell_type": "code",
   "execution_count": 798,
   "metadata": {},
   "outputs": [],
   "source": [
    "#temp_df.tail()"
   ]
  },
  {
   "cell_type": "code",
   "execution_count": 689,
   "metadata": {},
   "outputs": [],
   "source": [
    "#temp_news.set_index('release_date', inplace=True)\n",
    "#temp_news.tail()"
   ]
  },
  {
   "cell_type": "code",
   "execution_count": 2443,
   "metadata": {},
   "outputs": [
    {
     "data": {
      "text/html": [
       "<div>\n",
       "<style scoped>\n",
       "    .dataframe tbody tr th:only-of-type {\n",
       "        vertical-align: middle;\n",
       "    }\n",
       "\n",
       "    .dataframe tbody tr th {\n",
       "        vertical-align: top;\n",
       "    }\n",
       "\n",
       "    .dataframe thead th {\n",
       "        text-align: right;\n",
       "    }\n",
       "</style>\n",
       "<table border=\"1\" class=\"dataframe\">\n",
       "  <thead>\n",
       "    <tr style=\"text-align: right;\">\n",
       "      <th></th>\n",
       "      <th>index</th>\n",
       "      <th>level_0_x</th>\n",
       "      <th>ticker_x</th>\n",
       "      <th>index_x</th>\n",
       "      <th>id</th>\n",
       "      <th>article_id</th>\n",
       "      <th>neg</th>\n",
       "      <th>neu</th>\n",
       "      <th>pos</th>\n",
       "      <th>compound</th>\n",
       "      <th>...</th>\n",
       "      <th>2ma_pct</th>\n",
       "      <th>100ma</th>\n",
       "      <th>60ma</th>\n",
       "      <th>30ma</th>\n",
       "      <th>7ma</th>\n",
       "      <th>2ma</th>\n",
       "      <th>30ma_vol</th>\n",
       "      <th>7ma_vol</th>\n",
       "      <th>2ma_vol</th>\n",
       "      <th>release_date</th>\n",
       "    </tr>\n",
       "  </thead>\n",
       "  <tbody>\n",
       "    <tr>\n",
       "      <th>140</th>\n",
       "      <td>2020-02-05</td>\n",
       "      <td>93701</td>\n",
       "      <td>AMD</td>\n",
       "      <td>220352.000000</td>\n",
       "      <td>441868.000000</td>\n",
       "      <td>1.012906e+08</td>\n",
       "      <td>0.0000</td>\n",
       "      <td>0.907500</td>\n",
       "      <td>0.092500</td>\n",
       "      <td>0.1806</td>\n",
       "      <td>...</td>\n",
       "      <td>0.003913</td>\n",
       "      <td>38.9657</td>\n",
       "      <td>44.184833</td>\n",
       "      <td>48.554666</td>\n",
       "      <td>48.732857</td>\n",
       "      <td>49.645000</td>\n",
       "      <td>5.437613e+07</td>\n",
       "      <td>6.308464e+07</td>\n",
       "      <td>44519600.0</td>\n",
       "      <td>NaN</td>\n",
       "    </tr>\n",
       "    <tr>\n",
       "      <th>141</th>\n",
       "      <td>2020-02-06</td>\n",
       "      <td>93702</td>\n",
       "      <td>AMD</td>\n",
       "      <td>220307.500000</td>\n",
       "      <td>441823.500000</td>\n",
       "      <td>2.077960e+06</td>\n",
       "      <td>0.1755</td>\n",
       "      <td>0.665500</td>\n",
       "      <td>0.159000</td>\n",
       "      <td>0.1175</td>\n",
       "      <td>...</td>\n",
       "      <td>-0.005272</td>\n",
       "      <td>39.1520</td>\n",
       "      <td>44.402000</td>\n",
       "      <td>48.683333</td>\n",
       "      <td>48.560000</td>\n",
       "      <td>49.580000</td>\n",
       "      <td>5.413560e+07</td>\n",
       "      <td>6.113133e+07</td>\n",
       "      <td>45703850.0</td>\n",
       "      <td>NaN</td>\n",
       "    </tr>\n",
       "    <tr>\n",
       "      <th>142</th>\n",
       "      <td>2020-02-11</td>\n",
       "      <td>93703</td>\n",
       "      <td>AMD</td>\n",
       "      <td>220369.333333</td>\n",
       "      <td>441885.333333</td>\n",
       "      <td>1.343647e+08</td>\n",
       "      <td>0.0000</td>\n",
       "      <td>0.840333</td>\n",
       "      <td>0.159667</td>\n",
       "      <td>0.1858</td>\n",
       "      <td>...</td>\n",
       "      <td>0.014312</td>\n",
       "      <td>39.7875</td>\n",
       "      <td>45.156167</td>\n",
       "      <td>49.231333</td>\n",
       "      <td>50.345714</td>\n",
       "      <td>53.029999</td>\n",
       "      <td>5.580967e+07</td>\n",
       "      <td>5.336931e+07</td>\n",
       "      <td>67845400.0</td>\n",
       "      <td>NaN</td>\n",
       "    </tr>\n",
       "    <tr>\n",
       "      <th>143</th>\n",
       "      <td>2020-02-12</td>\n",
       "      <td>93704</td>\n",
       "      <td>AMD</td>\n",
       "      <td>220401.000000</td>\n",
       "      <td>441917.000000</td>\n",
       "      <td>2.005071e+08</td>\n",
       "      <td>0.0000</td>\n",
       "      <td>0.833000</td>\n",
       "      <td>0.167000</td>\n",
       "      <td>0.2023</td>\n",
       "      <td>...</td>\n",
       "      <td>0.000835</td>\n",
       "      <td>40.0235</td>\n",
       "      <td>45.415167</td>\n",
       "      <td>49.510333</td>\n",
       "      <td>51.184285</td>\n",
       "      <td>53.844999</td>\n",
       "      <td>5.597118e+07</td>\n",
       "      <td>5.321473e+07</td>\n",
       "      <td>60357000.0</td>\n",
       "      <td>NaN</td>\n",
       "    </tr>\n",
       "    <tr>\n",
       "      <th>144</th>\n",
       "      <td>2020-02-13</td>\n",
       "      <td>93705</td>\n",
       "      <td>AMD</td>\n",
       "      <td>220402.000000</td>\n",
       "      <td>441918.000000</td>\n",
       "      <td>2.005073e+08</td>\n",
       "      <td>0.3360</td>\n",
       "      <td>0.479000</td>\n",
       "      <td>0.185000</td>\n",
       "      <td>-0.2960</td>\n",
       "      <td>...</td>\n",
       "      <td>0.005868</td>\n",
       "      <td>40.2683</td>\n",
       "      <td>45.681333</td>\n",
       "      <td>49.799333</td>\n",
       "      <td>51.909999</td>\n",
       "      <td>54.209999</td>\n",
       "      <td>5.663674e+07</td>\n",
       "      <td>5.397729e+07</td>\n",
       "      <td>48817450.0</td>\n",
       "      <td>NaN</td>\n",
       "    </tr>\n",
       "  </tbody>\n",
       "</table>\n",
       "<p>5 rows × 41 columns</p>\n",
       "</div>"
      ],
      "text/plain": [
       "          index  level_0_x ticker_x        index_x             id  \\\n",
       "140  2020-02-05      93701      AMD  220352.000000  441868.000000   \n",
       "141  2020-02-06      93702      AMD  220307.500000  441823.500000   \n",
       "142  2020-02-11      93703      AMD  220369.333333  441885.333333   \n",
       "143  2020-02-12      93704      AMD  220401.000000  441917.000000   \n",
       "144  2020-02-13      93705      AMD  220402.000000  441918.000000   \n",
       "\n",
       "       article_id     neg       neu       pos  compound  ...   2ma_pct  \\\n",
       "140  1.012906e+08  0.0000  0.907500  0.092500    0.1806  ...  0.003913   \n",
       "141  2.077960e+06  0.1755  0.665500  0.159000    0.1175  ... -0.005272   \n",
       "142  1.343647e+08  0.0000  0.840333  0.159667    0.1858  ...  0.014312   \n",
       "143  2.005071e+08  0.0000  0.833000  0.167000    0.2023  ...  0.000835   \n",
       "144  2.005073e+08  0.3360  0.479000  0.185000   -0.2960  ...  0.005868   \n",
       "\n",
       "       100ma       60ma       30ma        7ma        2ma      30ma_vol  \\\n",
       "140  38.9657  44.184833  48.554666  48.732857  49.645000  5.437613e+07   \n",
       "141  39.1520  44.402000  48.683333  48.560000  49.580000  5.413560e+07   \n",
       "142  39.7875  45.156167  49.231333  50.345714  53.029999  5.580967e+07   \n",
       "143  40.0235  45.415167  49.510333  51.184285  53.844999  5.597118e+07   \n",
       "144  40.2683  45.681333  49.799333  51.909999  54.209999  5.663674e+07   \n",
       "\n",
       "          7ma_vol     2ma_vol  release_date  \n",
       "140  6.308464e+07  44519600.0           NaN  \n",
       "141  6.113133e+07  45703850.0           NaN  \n",
       "142  5.336931e+07  67845400.0           NaN  \n",
       "143  5.321473e+07  60357000.0           NaN  \n",
       "144  5.397729e+07  48817450.0           NaN  \n",
       "\n",
       "[5 rows x 41 columns]"
      ]
     },
     "execution_count": 2443,
     "metadata": {},
     "output_type": "execute_result"
    }
   ],
   "source": [
    "#main_df.drop(['level_0_x','id','article_id', 'index_x'], axis=1, inplace=True)\n",
    "#main_df.drop(['index_y'], axis=1, inplace=True)\n",
    "main_df.tail()\n",
    "#main_df.Close.describe()\n",
    "#main_df[main_df.ticker_x=='AAPL'].Close"
   ]
  },
  {
   "cell_type": "code",
   "execution_count": 2149,
   "metadata": {},
   "outputs": [],
   "source": [
    "#main_df.to_csv('/Users/otar/Google Drive/StocksAndNews/train_0511.csv')\n",
    "#main_df = pd.read_csv('/Users/otar/Google Drive/StocksAndNews/train_volume.csv')"
   ]
  },
  {
   "cell_type": "code",
   "execution_count": 225,
   "metadata": {},
   "outputs": [],
   "source": [
    "#main_df.drop(['NDP'], axis=1, inplace=True)"
   ]
  },
  {
   "cell_type": "raw",
   "metadata": {},
   "source": [
    "# next day pct change\n",
    "main_df['NDP'] = np.where(main_df['Adj Close'] <= main_df['Next_day'], \n",
    "                          (main_df['Adj Close'] - main_df['Next_day']) / main_df['Adj Close'], \n",
    "                          (main_df['Next_day'] - main_df['Adj Close']) / main_df['Adj Close'])\n",
    "# next week pct change\n",
    "main_df['NWP'] = np.where(main_df['Adj Close'] <= main_df['Next_week'], \n",
    "                          (main_df['Adj Close'] - main_df['Next_week']) / main_df['Adj Close'], \n",
    "                          (main_df['Next_week'] - main_df['Adj Close']) / main_df['Adj Close'])\n",
    "# next month pct change\n",
    "main_df['NMP'] = np.where(main_df['Adj Close'] <= main_df['Next_month'], \n",
    "                          (main_df['Adj Close'] - main_df['Next_month']) / main_df['Adj Close'], \n",
    "                          (main_df['Next_month'] - main_df['Adj Close']) / main_df['Adj Close'])"
   ]
  },
  {
   "cell_type": "code",
   "execution_count": 2444,
   "metadata": {},
   "outputs": [],
   "source": [
    "#main_df.NDP.tail()"
   ]
  },
  {
   "cell_type": "code",
   "execution_count": 2445,
   "metadata": {},
   "outputs": [],
   "source": [
    "# pct change for next day, week and month\n",
    "main_df['NDP'] = (main_df['Next_day'] - main_df['Adj Close']) / main_df['Adj Close']\n",
    "main_df['NWP'] = (main_df['Next_week'] - main_df['Adj Close']) / main_df['Adj Close']\n",
    "main_df['NMP'] = (main_df['Next_month'] - main_df['Adj Close']) / main_df['Adj Close']"
   ]
  },
  {
   "cell_type": "code",
   "execution_count": 2597,
   "metadata": {},
   "outputs": [],
   "source": [
    "day_lim = 0.01\n",
    "week_lim = 0.02\n",
    "month_lim = 0.03\n",
    "# create a list of our conditions\n",
    "conditions_w = [\n",
    "    (main_df['NWP'] > week_lim),\n",
    "    (main_df['NWP'] >= -week_lim) & (main_df['NWP'] <= week_lim),\n",
    "    (main_df['NWP'] < -week_lim) \n",
    "    ]\n",
    "\n",
    "conditions_m = [\n",
    "    (main_df['NMP'] > month_lim),\n",
    "    (main_df['NMP'] >= -month_lim) & (main_df['NMP'] <= month_lim),\n",
    "    (main_df['NMP'] < -month_lim) \n",
    "    ]\n",
    "\n",
    "conditions_d = [\n",
    "    (main_df['NDP'] > day_lim),\n",
    "    (main_df['NDP'] >= -day_lim) & (main_df['NDP'] <= day_lim),\n",
    "    (main_df['NDP'] < -day_lim) \n",
    "    ]\n",
    "# create a list of the values we want to assign for each condition\n",
    "values = [1,0,-1]\n",
    "# create a new column and use np.select to assign values to it using our lists as arguments\n",
    "main_df['label_day'] = np.select(conditions_d, values)\n",
    "main_df['label_week'] = np.select(conditions_w, values)\n",
    "main_df['label_month'] = np.select(conditions_m, values)"
   ]
  },
  {
   "cell_type": "code",
   "execution_count": 2599,
   "metadata": {},
   "outputs": [
    {
     "data": {
      "text/html": [
       "<div>\n",
       "<style scoped>\n",
       "    .dataframe tbody tr th:only-of-type {\n",
       "        vertical-align: middle;\n",
       "    }\n",
       "\n",
       "    .dataframe tbody tr th {\n",
       "        vertical-align: top;\n",
       "    }\n",
       "\n",
       "    .dataframe thead th {\n",
       "        text-align: right;\n",
       "    }\n",
       "</style>\n",
       "<table border=\"1\" class=\"dataframe\">\n",
       "  <thead>\n",
       "    <tr style=\"text-align: right;\">\n",
       "      <th></th>\n",
       "      <th>index</th>\n",
       "      <th>level_0_x</th>\n",
       "      <th>ticker_x</th>\n",
       "      <th>index_x</th>\n",
       "      <th>id</th>\n",
       "      <th>article_id</th>\n",
       "      <th>neg</th>\n",
       "      <th>neu</th>\n",
       "      <th>pos</th>\n",
       "      <th>compound</th>\n",
       "      <th>...</th>\n",
       "      <th>30ma_vol</th>\n",
       "      <th>7ma_vol</th>\n",
       "      <th>2ma_vol</th>\n",
       "      <th>release_date</th>\n",
       "      <th>NDP</th>\n",
       "      <th>NWP</th>\n",
       "      <th>NMP</th>\n",
       "      <th>label_day</th>\n",
       "      <th>label_week</th>\n",
       "      <th>label_month</th>\n",
       "    </tr>\n",
       "  </thead>\n",
       "  <tbody>\n",
       "    <tr>\n",
       "      <th>0</th>\n",
       "      <td>2018-09-12</td>\n",
       "      <td>0</td>\n",
       "      <td>NIO</td>\n",
       "      <td>62.0</td>\n",
       "      <td>221577.0</td>\n",
       "      <td>1606489.0</td>\n",
       "      <td>0.0</td>\n",
       "      <td>1.0</td>\n",
       "      <td>0.0</td>\n",
       "      <td>0.0</td>\n",
       "      <td>...</td>\n",
       "      <td>6.684900e+07</td>\n",
       "      <td>6.684900e+07</td>\n",
       "      <td>66849000.0</td>\n",
       "      <td>NaN</td>\n",
       "      <td>0.378788</td>\n",
       "      <td>0.328598</td>\n",
       "      <td>0.137390</td>\n",
       "      <td>1</td>\n",
       "      <td>1</td>\n",
       "      <td>1</td>\n",
       "    </tr>\n",
       "    <tr>\n",
       "      <th>1</th>\n",
       "      <td>2018-09-14</td>\n",
       "      <td>1</td>\n",
       "      <td>NIO</td>\n",
       "      <td>61.0</td>\n",
       "      <td>221576.0</td>\n",
       "      <td>1610808.0</td>\n",
       "      <td>0.0</td>\n",
       "      <td>1.0</td>\n",
       "      <td>0.0</td>\n",
       "      <td>0.0</td>\n",
       "      <td>...</td>\n",
       "      <td>1.325564e+08</td>\n",
       "      <td>1.325564e+08</td>\n",
       "      <td>165410050.0</td>\n",
       "      <td>NaN</td>\n",
       "      <td>-0.070707</td>\n",
       "      <td>-0.148990</td>\n",
       "      <td>-0.259335</td>\n",
       "      <td>-1</td>\n",
       "      <td>-1</td>\n",
       "      <td>-1</td>\n",
       "    </tr>\n",
       "    <tr>\n",
       "      <th>2</th>\n",
       "      <td>2018-09-24</td>\n",
       "      <td>2</td>\n",
       "      <td>NIO</td>\n",
       "      <td>60.0</td>\n",
       "      <td>221575.0</td>\n",
       "      <td>1621487.0</td>\n",
       "      <td>0.0</td>\n",
       "      <td>1.0</td>\n",
       "      <td>0.0</td>\n",
       "      <td>0.0</td>\n",
       "      <td>...</td>\n",
       "      <td>6.842428e+07</td>\n",
       "      <td>5.580329e+07</td>\n",
       "      <td>15708200.0</td>\n",
       "      <td>NaN</td>\n",
       "      <td>-0.018424</td>\n",
       "      <td>-0.114199</td>\n",
       "      <td>-0.126163</td>\n",
       "      <td>-1</td>\n",
       "      <td>-1</td>\n",
       "      <td>-1</td>\n",
       "    </tr>\n",
       "    <tr>\n",
       "      <th>3</th>\n",
       "      <td>2018-10-03</td>\n",
       "      <td>3</td>\n",
       "      <td>NIO</td>\n",
       "      <td>54.0</td>\n",
       "      <td>221569.0</td>\n",
       "      <td>1632123.0</td>\n",
       "      <td>0.0</td>\n",
       "      <td>1.0</td>\n",
       "      <td>0.0</td>\n",
       "      <td>0.0</td>\n",
       "      <td>...</td>\n",
       "      <td>4.584785e+07</td>\n",
       "      <td>1.682101e+07</td>\n",
       "      <td>16345600.0</td>\n",
       "      <td>NaN</td>\n",
       "      <td>-0.003968</td>\n",
       "      <td>0.083929</td>\n",
       "      <td>0.079621</td>\n",
       "      <td>0</td>\n",
       "      <td>1</td>\n",
       "      <td>1</td>\n",
       "    </tr>\n",
       "    <tr>\n",
       "      <th>4</th>\n",
       "      <td>2018-10-09</td>\n",
       "      <td>4</td>\n",
       "      <td>NIO</td>\n",
       "      <td>75.0</td>\n",
       "      <td>221590.0</td>\n",
       "      <td>1637643.0</td>\n",
       "      <td>0.0</td>\n",
       "      <td>1.0</td>\n",
       "      <td>0.0</td>\n",
       "      <td>0.0</td>\n",
       "      <td>...</td>\n",
       "      <td>4.019068e+07</td>\n",
       "      <td>1.705263e+07</td>\n",
       "      <td>24986600.0</td>\n",
       "      <td>NaN</td>\n",
       "      <td>0.024357</td>\n",
       "      <td>0.030277</td>\n",
       "      <td>-0.056964</td>\n",
       "      <td>1</td>\n",
       "      <td>1</td>\n",
       "      <td>-1</td>\n",
       "    </tr>\n",
       "  </tbody>\n",
       "</table>\n",
       "<p>5 rows × 47 columns</p>\n",
       "</div>"
      ],
      "text/plain": [
       "        index  level_0_x ticker_x  index_x        id  article_id  neg  neu  \\\n",
       "0  2018-09-12          0      NIO     62.0  221577.0   1606489.0  0.0  1.0   \n",
       "1  2018-09-14          1      NIO     61.0  221576.0   1610808.0  0.0  1.0   \n",
       "2  2018-09-24          2      NIO     60.0  221575.0   1621487.0  0.0  1.0   \n",
       "3  2018-10-03          3      NIO     54.0  221569.0   1632123.0  0.0  1.0   \n",
       "4  2018-10-09          4      NIO     75.0  221590.0   1637643.0  0.0  1.0   \n",
       "\n",
       "   pos  compound  ...      30ma_vol       7ma_vol      2ma_vol  release_date  \\\n",
       "0  0.0       0.0  ...  6.684900e+07  6.684900e+07   66849000.0           NaN   \n",
       "1  0.0       0.0  ...  1.325564e+08  1.325564e+08  165410050.0           NaN   \n",
       "2  0.0       0.0  ...  6.842428e+07  5.580329e+07   15708200.0           NaN   \n",
       "3  0.0       0.0  ...  4.584785e+07  1.682101e+07   16345600.0           NaN   \n",
       "4  0.0       0.0  ...  4.019068e+07  1.705263e+07   24986600.0           NaN   \n",
       "\n",
       "        NDP       NWP       NMP  label_day  label_week  label_month  \n",
       "0  0.378788  0.328598  0.137390          1           1            1  \n",
       "1 -0.070707 -0.148990 -0.259335         -1          -1           -1  \n",
       "2 -0.018424 -0.114199 -0.126163         -1          -1           -1  \n",
       "3 -0.003968  0.083929  0.079621          0           1            1  \n",
       "4  0.024357  0.030277 -0.056964          1           1           -1  \n",
       "\n",
       "[5 rows x 47 columns]"
      ]
     },
     "execution_count": 2599,
     "metadata": {},
     "output_type": "execute_result"
    }
   ],
   "source": [
    "#main_df.to_csv()\n",
    "main_df.head()"
   ]
  },
  {
   "cell_type": "raw",
   "metadata": {},
   "source": [
    "# create df for a company for testing \n",
    "df_tsla = main_df[main_df.ticker_x=='TSLA']\n",
    "df_tsla = df_tsla[['ticker_x', 'Adj Close' , 'compound', 'neg', 'neu', 'pos', 'comp_aggr', '30ma', '7ma', '2ma', '30ma_comp', '7ma_comp', '2ma_comp', 'label_week']]\n",
    "df_tsla_pred = df_tsla[['comp_aggr', '30ma', '7ma', '2ma', '30ma_comp', '7ma_comp', '2ma_comp']]\n",
    "df_tsla_lab = df_tsla['label_week']\n",
    "df_tsla.tail(15)\n",
    "#df_tsla.shape"
   ]
  },
  {
   "cell_type": "code",
   "execution_count": 2600,
   "metadata": {},
   "outputs": [],
   "source": [
    "# filter for tickers with at least 200 entries (headlines) in the last 4 years (2016-2020)\n",
    "tickers = main_df.ticker_x.unique()\n",
    "df_m = main_df.reset_index()\n",
    "for k in tickers:\n",
    "    if df_m[df_m.ticker_x==k].count()[0]<200:\n",
    "        df_m = df_m.drop(df_m[df_m.ticker_x==k].index)\n",
    "    "
   ]
  },
  {
   "cell_type": "code",
   "execution_count": 2601,
   "metadata": {},
   "outputs": [
    {
     "data": {
      "text/plain": [
       "((36139, 48), (80733, 47))"
      ]
     },
     "execution_count": 2601,
     "metadata": {},
     "output_type": "execute_result"
    }
   ],
   "source": [
    "df_m.shape, main_df.shape"
   ]
  },
  {
   "cell_type": "code",
   "execution_count": 2602,
   "metadata": {},
   "outputs": [
    {
     "name": "stdout",
     "output_type": "stream",
     "text": [
      "[[773, 'INTC'], [966, 'MSFT'], [612, 'MU']]\n"
     ]
    }
   ],
   "source": [
    "# list the remaining tickers\n",
    "rows = []\n",
    "tickers_new = df_m.ticker_x.unique()\n",
    "for k in tickers_new:\n",
    "     rows.append([df_m[df_m.ticker_x==k].count()[0], k])\n",
    "print(rows[:3])"
   ]
  },
  {
   "cell_type": "code",
   "execution_count": 2603,
   "metadata": {
    "scrolled": true
   },
   "outputs": [
    {
     "data": {
      "text/plain": [
       "[[773, 'INTC'],\n",
       " [966, 'MSFT'],\n",
       " [612, 'MU'],\n",
       " [279, 'FCX'],\n",
       " [842, 'NFLX'],\n",
       " [317, 'BX'],\n",
       " [232, 'PM'],\n",
       " [648, 'GE'],\n",
       " [264, 'COST'],\n",
       " [971, 'GS'],\n",
       " [203, 'NDAQ'],\n",
       " [351, 'NKE'],\n",
       " [274, 'ASML'],\n",
       " [904, 'TSLA'],\n",
       " [226, 'ADBE'],\n",
       " [226, 'CBRE'],\n",
       " [200, 'HSY'],\n",
       " [256, 'NOC'],\n",
       " [207, 'MMM'],\n",
       " [460, 'TM'],\n",
       " [212, 'AZO'],\n",
       " [444, 'CMG'],\n",
       " [971, 'BAC'],\n",
       " [326, 'SLB'],\n",
       " [716, 'DIS'],\n",
       " [249, 'NLOK'],\n",
       " [776, 'XOM'],\n",
       " [487, 'KO'],\n",
       " [329, 'DAL'],\n",
       " [1020, 'AAPL'],\n",
       " [958, 'BA'],\n",
       " [392, 'SBUX'],\n",
       " [283, 'PG'],\n",
       " [336, 'PGR'],\n",
       " [584, 'TGT'],\n",
       " [254, 'AVGO'],\n",
       " [263, 'DUK'],\n",
       " [215, 'QCOM'],\n",
       " [562, 'BLK'],\n",
       " [264, 'STZ'],\n",
       " [206, 'HAS'],\n",
       " [497, 'CME'],\n",
       " [959, 'GOOGL'],\n",
       " [254, 'BIIB'],\n",
       " [211, 'KBH'],\n",
       " [456, 'LMT'],\n",
       " [290, 'HUM'],\n",
       " [256, 'JWN'],\n",
       " [305, 'ICE'],\n",
       " [246, 'BHC'],\n",
       " [381, 'AMGN'],\n",
       " [923, 'AMZN'],\n",
       " [220, 'BIDU'],\n",
       " [214, 'AXP'],\n",
       " [227, 'HD'],\n",
       " [264, 'FDX'],\n",
       " [264, 'CAT'],\n",
       " [284, 'LLY'],\n",
       " [440, 'IBM'],\n",
       " [335, 'SO'],\n",
       " [460, 'WMT'],\n",
       " [201, 'JBLU'],\n",
       " [205, 'UNH'],\n",
       " [245, 'COP'],\n",
       " [233, 'MA'],\n",
       " [434, 'CVX'],\n",
       " [252, 'DD'],\n",
       " [269, 'UAL'],\n",
       " [228, 'MCD'],\n",
       " [257, 'MYL'],\n",
       " [303, 'FTI'],\n",
       " [390, 'JNJ'],\n",
       " [233, 'ORCL'],\n",
       " [273, 'NVDA'],\n",
       " [220, 'GILD'],\n",
       " [717, 'GM'],\n",
       " [321, 'MRK'],\n",
       " [760, 'MS'],\n",
       " [817, 'JPM'],\n",
       " [547, 'C'],\n",
       " [230, 'BMY'],\n",
       " [345, 'WMB'],\n",
       " [396, 'VZ'],\n",
       " [205, 'CSCO'],\n",
       " [576, 'WFC'],\n",
       " [260, 'CMCSA'],\n",
       " [279, 'PFE'],\n",
       " [399, 'T']]"
      ]
     },
     "execution_count": 2603,
     "metadata": {},
     "output_type": "execute_result"
    }
   ],
   "source": [
    "(rows)"
   ]
  },
  {
   "cell_type": "markdown",
   "metadata": {},
   "source": [
    "# Create training and test data"
   ]
  },
  {
   "cell_type": "code",
   "execution_count": 2604,
   "metadata": {},
   "outputs": [
    {
     "data": {
      "text/plain": [
       " 0    24289\n",
       " 1     6701\n",
       "-1     5149\n",
       "Name: label_week, dtype: int64"
      ]
     },
     "execution_count": 2604,
     "metadata": {},
     "output_type": "execute_result"
    }
   ],
   "source": [
    "df_m.label_week.value_counts()"
   ]
  },
  {
   "cell_type": "code",
   "execution_count": 2605,
   "metadata": {},
   "outputs": [
    {
     "data": {
      "image/png": "[encoded data removed]",
      "text/plain": [
       "<Figure size 288x288 with 2 Axes>"
      ]
     },
     "metadata": {
      "needs_background": "light"
     },
     "output_type": "display_data"
    }
   ],
   "source": [
    "plt.matshow(df_m.corr())\n",
    "plt.colorbar()\n",
    "plt.show()"
   ]
  },
  {
   "cell_type": "code",
   "execution_count": 2606,
   "metadata": {},
   "outputs": [],
   "source": [
    "# create training set without tsla\n",
    "df_m = df_m[df_m.ticker_x!='TSLA']"
   ]
  },
  {
   "cell_type": "markdown",
   "metadata": {},
   "source": [
    "# Find correlation "
   ]
  },
  {
   "cell_type": "code",
   "execution_count": 2607,
   "metadata": {},
   "outputs": [],
   "source": [
    "#df_prices_new.head()"
   ]
  },
  {
   "cell_type": "code",
   "execution_count": 2608,
   "metadata": {},
   "outputs": [],
   "source": [
    "#df_c = df_m[['index','ticker_x','Adj Close']]\n",
    "df_c = df_prices_new[['Date','ticker','Adj Close']]\n",
    "#df_c.head()"
   ]
  },
  {
   "cell_type": "code",
   "execution_count": 2609,
   "metadata": {},
   "outputs": [],
   "source": [
    "df_co = df_c.groupby(['ticker','Date']).sum()\n",
    "#df_co.head()"
   ]
  },
  {
   "cell_type": "code",
   "execution_count": 2610,
   "metadata": {},
   "outputs": [],
   "source": [
    "df_co = df_co.unstack()\n",
    "#df_co.head()"
   ]
  },
  {
   "cell_type": "code",
   "execution_count": 2611,
   "metadata": {},
   "outputs": [],
   "source": [
    "#df_co = df_co.xs('index').transpose()\n",
    "df_co = df_co.T"
   ]
  },
  {
   "cell_type": "code",
   "execution_count": 2612,
   "metadata": {},
   "outputs": [],
   "source": [
    "#df_co.head()"
   ]
  },
  {
   "cell_type": "code",
   "execution_count": 2466,
   "metadata": {},
   "outputs": [],
   "source": [
    "df_corr = df_co.corr()\n",
    "#df_corr.iloc[0:10]"
   ]
  },
  {
   "cell_type": "code",
   "execution_count": 2613,
   "metadata": {},
   "outputs": [
    {
     "data": {
      "text/plain": [
       "Index(['ANSS', 'ASML', 'GOOGL', 'JPM', 'MCO', 'MSFT', 'SHW', 'SNE', 'SPGI',\n",
       "       'SYY'],\n",
       "      dtype='object', name='ticker')"
      ]
     },
     "execution_count": 2613,
     "metadata": {},
     "output_type": "execute_result"
    }
   ],
   "source": [
    "df_corr_aapl = df_corr[df_corr['AAPL']>0.94]\n",
    "df_corr_aapl.index[1:]"
   ]
  },
  {
   "cell_type": "code",
   "execution_count": 2614,
   "metadata": {},
   "outputs": [
    {
     "data": {
      "text/plain": [
       "array(['MSFT', 'ASML', 'SHW', 'ANSS', 'SPGI', 'MCO', 'SNE', 'GOOGL',\n",
       "       'SYY', 'JPM'], dtype=object)"
      ]
     },
     "execution_count": 2614,
     "metadata": {},
     "output_type": "execute_result"
    }
   ],
   "source": [
    "# correlated to appl\n",
    "corr_aapl_ticker = df_corr_aapl.index[1:]\n",
    "df_apples = main_df[main_df['ticker_x'].isin(corr_aapl_ticker)]\n",
    "df_apples.ticker_x.unique()"
   ]
  },
  {
   "cell_type": "code",
   "execution_count": 2615,
   "metadata": {},
   "outputs": [
    {
     "data": {
      "text/plain": [
       "array(['MSFT', 'ASML', 'GOOGL', 'JPM'], dtype=object)"
      ]
     },
     "execution_count": 2615,
     "metadata": {},
     "output_type": "execute_result"
    }
   ],
   "source": [
    "ind = df_m[df_m['ticker_x'].isin(corr_aapl_ticker)]\n",
    "#ind\n",
    "ind.ticker_x.unique()"
   ]
  },
  {
   "cell_type": "code",
   "execution_count": 2616,
   "metadata": {
    "scrolled": true
   },
   "outputs": [
    {
     "data": {
      "text/plain": [
       "324.5014090643989"
      ]
     },
     "execution_count": 2616,
     "metadata": {},
     "output_type": "execute_result"
    }
   ],
   "source": [
    "df_feature = main_df[main_df['ticker_x'].isin(corr_aapl_ticker)]\n",
    "#df_feature.head()\n",
    "df_feature[df_feature['index']=='2017-01-04']['30ma'].mean()"
   ]
  },
  {
   "cell_type": "code",
   "execution_count": 2617,
   "metadata": {},
   "outputs": [
    {
     "name": "stdout",
     "output_type": "stream",
     "text": [
      "CPU times: user 2min 16s, sys: 465 ms, total: 2min 16s\n",
      "Wall time: 2min 16s\n"
     ]
    }
   ],
   "source": [
    "%%time\n",
    "# calculate 30ma from correlated companies\n",
    "expl_tickers = df_m.ticker_x.unique()\n",
    "com_list = expl_tickers\n",
    "cor_mo = np.array([])\n",
    "cor_we = np.array([])\n",
    "cor_mo_comp = np.array([])\n",
    "cor_mo_vol = np.array([])\n",
    "\n",
    "for k in com_list:\n",
    "    df_com = main_df[(main_df.ticker_x==k)]\n",
    "    df_corr_com = df_corr[df_corr[k]>0.91]\n",
    "    corr_com_ticker = df_corr_com.index[1:]\n",
    "    df_sub = df_m[df_m['ticker_x'].isin(corr_com_ticker)]\n",
    "    # for each date calculate the mean of 30ma and 7ma from the correlated companies\n",
    "    for d in df_com['index']:\n",
    "        cor_mo = np.append([cor_mo], [df_sub[df_sub['index']==d]['30ma_pct'].mean()])\n",
    "        cor_we = np.append([cor_we], [df_sub[df_sub['index']==d]['7ma_pct'].mean()])\n",
    "        cor_mo_comp = np.append([cor_mo_comp], [df_sub[df_sub['index']==d]['30ma_comp'].mean()])\n",
    "        cor_mo_vol = np.append([cor_mo_vol], [df_sub[df_sub['index']==d]['30ma_vol'].mean()])\n",
    "        "
   ]
  },
  {
   "cell_type": "code",
   "execution_count": 2619,
   "metadata": {},
   "outputs": [
    {
     "data": {
      "text/plain": [
       "(35235, 35235, 35235, 399, 35235)"
      ]
     },
     "execution_count": 2619,
     "metadata": {},
     "output_type": "execute_result"
    }
   ],
   "source": [
    "len(cor_mo), len(cor_we), len(cor_mo_comp), len(df_com), len(df_m)"
   ]
  },
  {
   "cell_type": "code",
   "execution_count": 2620,
   "metadata": {
    "scrolled": true
   },
   "outputs": [],
   "source": [
    "# add new feeatures to df \n",
    "df_m['30ma_pct_corr'] = cor_mo\n",
    "df_m['7ma_pct_corr'] = cor_we\n",
    "df_m['30ma_comp_corr'] = cor_mo_comp\n",
    "df_m['30ma_vol_corr'] = cor_mo_vol\n",
    "df_m = df_m.fillna(0)\n",
    "#df_m.isna().sum()"
   ]
  },
  {
   "cell_type": "code",
   "execution_count": 2621,
   "metadata": {},
   "outputs": [
    {
     "data": {
      "text/html": [
       "<div>\n",
       "<style scoped>\n",
       "    .dataframe tbody tr th:only-of-type {\n",
       "        vertical-align: middle;\n",
       "    }\n",
       "\n",
       "    .dataframe tbody tr th {\n",
       "        vertical-align: top;\n",
       "    }\n",
       "\n",
       "    .dataframe thead th {\n",
       "        text-align: right;\n",
       "    }\n",
       "</style>\n",
       "<table border=\"1\" class=\"dataframe\">\n",
       "  <thead>\n",
       "    <tr style=\"text-align: right;\">\n",
       "      <th></th>\n",
       "      <th>level_0</th>\n",
       "      <th>index</th>\n",
       "      <th>level_0_x</th>\n",
       "      <th>ticker_x</th>\n",
       "      <th>index_x</th>\n",
       "      <th>id</th>\n",
       "      <th>article_id</th>\n",
       "      <th>neg</th>\n",
       "      <th>neu</th>\n",
       "      <th>pos</th>\n",
       "      <th>...</th>\n",
       "      <th>NDP</th>\n",
       "      <th>NWP</th>\n",
       "      <th>NMP</th>\n",
       "      <th>label_day</th>\n",
       "      <th>label_week</th>\n",
       "      <th>label_month</th>\n",
       "      <th>30ma_pct_corr</th>\n",
       "      <th>7ma_pct_corr</th>\n",
       "      <th>30ma_comp_corr</th>\n",
       "      <th>30ma_vol_corr</th>\n",
       "    </tr>\n",
       "  </thead>\n",
       "  <tbody>\n",
       "    <tr>\n",
       "      <th>363</th>\n",
       "      <td>0</td>\n",
       "      <td>2016-01-07</td>\n",
       "      <td>480</td>\n",
       "      <td>INTC</td>\n",
       "      <td>25435.0</td>\n",
       "      <td>246950.0</td>\n",
       "      <td>379114.0</td>\n",
       "      <td>0.0000</td>\n",
       "      <td>0.6590</td>\n",
       "      <td>0.341</td>\n",
       "      <td>...</td>\n",
       "      <td>-0.005182</td>\n",
       "      <td>-0.009501</td>\n",
       "      <td>-0.055403</td>\n",
       "      <td>0</td>\n",
       "      <td>0</td>\n",
       "      <td>-1</td>\n",
       "      <td>-0.027131</td>\n",
       "      <td>-0.027131</td>\n",
       "      <td>0.202369</td>\n",
       "      <td>1.963868e+07</td>\n",
       "    </tr>\n",
       "    <tr>\n",
       "      <th>364</th>\n",
       "      <td>1</td>\n",
       "      <td>2016-01-08</td>\n",
       "      <td>481</td>\n",
       "      <td>INTC</td>\n",
       "      <td>25436.0</td>\n",
       "      <td>246951.0</td>\n",
       "      <td>379325.0</td>\n",
       "      <td>0.2080</td>\n",
       "      <td>0.7920</td>\n",
       "      <td>0.000</td>\n",
       "      <td>...</td>\n",
       "      <td>0.008727</td>\n",
       "      <td>-0.008053</td>\n",
       "      <td>-0.048363</td>\n",
       "      <td>0</td>\n",
       "      <td>0</td>\n",
       "      <td>-1</td>\n",
       "      <td>-0.034422</td>\n",
       "      <td>-0.034422</td>\n",
       "      <td>-0.069040</td>\n",
       "      <td>2.479502e+07</td>\n",
       "    </tr>\n",
       "    <tr>\n",
       "      <th>365</th>\n",
       "      <td>2</td>\n",
       "      <td>2016-01-11</td>\n",
       "      <td>483</td>\n",
       "      <td>INTC</td>\n",
       "      <td>25437.0</td>\n",
       "      <td>246952.0</td>\n",
       "      <td>379494.0</td>\n",
       "      <td>0.0000</td>\n",
       "      <td>0.8160</td>\n",
       "      <td>0.184</td>\n",
       "      <td>...</td>\n",
       "      <td>0.009669</td>\n",
       "      <td>-0.032283</td>\n",
       "      <td>-0.066765</td>\n",
       "      <td>0</td>\n",
       "      <td>-1</td>\n",
       "      <td>-1</td>\n",
       "      <td>-0.025971</td>\n",
       "      <td>-0.025971</td>\n",
       "      <td>-0.126354</td>\n",
       "      <td>3.153547e+07</td>\n",
       "    </tr>\n",
       "    <tr>\n",
       "      <th>366</th>\n",
       "      <td>3</td>\n",
       "      <td>2016-01-12</td>\n",
       "      <td>484</td>\n",
       "      <td>INTC</td>\n",
       "      <td>25438.0</td>\n",
       "      <td>246953.0</td>\n",
       "      <td>379695.0</td>\n",
       "      <td>0.0000</td>\n",
       "      <td>0.5260</td>\n",
       "      <td>0.474</td>\n",
       "      <td>...</td>\n",
       "      <td>-0.011781</td>\n",
       "      <td>-0.058790</td>\n",
       "      <td>-0.086621</td>\n",
       "      <td>-1</td>\n",
       "      <td>-1</td>\n",
       "      <td>-1</td>\n",
       "      <td>-0.006198</td>\n",
       "      <td>-0.006198</td>\n",
       "      <td>-0.057988</td>\n",
       "      <td>2.016738e+07</td>\n",
       "    </tr>\n",
       "    <tr>\n",
       "      <th>367</th>\n",
       "      <td>4</td>\n",
       "      <td>2016-01-13</td>\n",
       "      <td>485</td>\n",
       "      <td>INTC</td>\n",
       "      <td>59272.0</td>\n",
       "      <td>280787.0</td>\n",
       "      <td>379816.5</td>\n",
       "      <td>0.1355</td>\n",
       "      <td>0.8645</td>\n",
       "      <td>0.000</td>\n",
       "      <td>...</td>\n",
       "      <td>0.013005</td>\n",
       "      <td>-0.048143</td>\n",
       "      <td>-0.067227</td>\n",
       "      <td>1</td>\n",
       "      <td>-1</td>\n",
       "      <td>-1</td>\n",
       "      <td>-0.031218</td>\n",
       "      <td>-0.027963</td>\n",
       "      <td>0.105724</td>\n",
       "      <td>1.431159e+07</td>\n",
       "    </tr>\n",
       "  </tbody>\n",
       "</table>\n",
       "<p>5 rows × 52 columns</p>\n",
       "</div>"
      ],
      "text/plain": [
       "     level_0       index  level_0_x ticker_x  index_x        id  article_id  \\\n",
       "363        0  2016-01-07        480     INTC  25435.0  246950.0    379114.0   \n",
       "364        1  2016-01-08        481     INTC  25436.0  246951.0    379325.0   \n",
       "365        2  2016-01-11        483     INTC  25437.0  246952.0    379494.0   \n",
       "366        3  2016-01-12        484     INTC  25438.0  246953.0    379695.0   \n",
       "367        4  2016-01-13        485     INTC  59272.0  280787.0    379816.5   \n",
       "\n",
       "        neg     neu    pos  ...       NDP       NWP       NMP  label_day  \\\n",
       "363  0.0000  0.6590  0.341  ... -0.005182 -0.009501 -0.055403          0   \n",
       "364  0.2080  0.7920  0.000  ...  0.008727 -0.008053 -0.048363          0   \n",
       "365  0.0000  0.8160  0.184  ...  0.009669 -0.032283 -0.066765          0   \n",
       "366  0.0000  0.5260  0.474  ... -0.011781 -0.058790 -0.086621         -1   \n",
       "367  0.1355  0.8645  0.000  ...  0.013005 -0.048143 -0.067227          1   \n",
       "\n",
       "     label_week  label_month  30ma_pct_corr  7ma_pct_corr  30ma_comp_corr  \\\n",
       "363           0           -1      -0.027131     -0.027131        0.202369   \n",
       "364           0           -1      -0.034422     -0.034422       -0.069040   \n",
       "365          -1           -1      -0.025971     -0.025971       -0.126354   \n",
       "366          -1           -1      -0.006198     -0.006198       -0.057988   \n",
       "367          -1           -1      -0.031218     -0.027963        0.105724   \n",
       "\n",
       "     30ma_vol_corr  \n",
       "363   1.963868e+07  \n",
       "364   2.479502e+07  \n",
       "365   3.153547e+07  \n",
       "366   2.016738e+07  \n",
       "367   1.431159e+07  \n",
       "\n",
       "[5 rows x 52 columns]"
      ]
     },
     "execution_count": 2621,
     "metadata": {},
     "output_type": "execute_result"
    }
   ],
   "source": [
    "df_m.head()"
   ]
  },
  {
   "cell_type": "code",
   "execution_count": 2622,
   "metadata": {},
   "outputs": [],
   "source": [
    "dat = df_corr.values"
   ]
  },
  {
   "cell_type": "raw",
   "metadata": {},
   "source": [
    "#dat = df_corr.values\n",
    "plt.figure(figsize=(10,10))\n",
    "plt.matshow(df_corr, fignum=1, aspect='auto')\n",
    "plt.colorbar()\n",
    "plt.show()"
   ]
  },
  {
   "cell_type": "markdown",
   "metadata": {},
   "source": [
    "# Example plot of a company"
   ]
  },
  {
   "cell_type": "code",
   "execution_count": 2623,
   "metadata": {},
   "outputs": [],
   "source": [
    "ex_comp = 'NFLX'\n",
    "df_tsla = df_m[df_m.ticker_x==ex_comp][-120:]\n",
    "#df_tsla = main_df[main_df.ticker_x==ex_comp]\n",
    "#df_tsla.tail(10)\n",
    "#df_tsla.Close.tail(10), df_tsla.Next_week.tail(10), df_tsla.NWP.tail(10)"
   ]
  },
  {
   "cell_type": "code",
   "execution_count": 2647,
   "metadata": {
    "scrolled": false
   },
   "outputs": [
    {
     "data": {
      "image/png": "[encoded data removed]",
      "text/plain": [
       "<Figure size 2160x1296 with 3 Axes>"
      ]
     },
     "metadata": {
      "needs_background": "light"
     },
     "output_type": "display_data"
    }
   ],
   "source": [
    "# plot multiple graphs, visualizing different features\n",
    "fig, axs = plt.subplots(3, 1, figsize=(30,18))\n",
    "axs[0].plot(df_tsla['index'], df_tsla['30ma_comp'], df_tsla['index'], df_tsla['compound'],\n",
    "           df_tsla['index'], df_tsla['30ma_comp_corr'], df_tsla['index'], df_tsla['comp_aggr'])\n",
    "axs[0].set_title('comp_aggr', fontsize=12)\n",
    "axs[0].grid(True)\n",
    "#axs[0].set_xlabel('distance (m)')\n",
    "#axs[0].set_ylabel('Damped oscillation')\n",
    "#fig.suptitle('This is a somewhat long figure title', fontsize=16)\n",
    "\n",
    "axs[1].plot(df_tsla['index'], df_tsla['Adj Close'], df_tsla['index'], df_tsla['7ma'], \n",
    "            df_tsla['index'], df_tsla['30ma'])\n",
    "axs[1].set_title('Close', fontsize=12)\n",
    "axs[1].grid(True)\n",
    "\n",
    "#axs[2].plot(df_tsla['index'], df_tsla['2ma_vol'], df_tsla['index'], df_tsla['30ma_vol'])\n",
    "axs[2].plot(df_tsla['index'], df_tsla['7ma_pct'], df_tsla['index'], df_tsla['7ma_pct_corr'])\n",
    "axs[2].set_title('Label', fontsize=12)\n",
    "axs[2].grid(True)\n",
    "\n",
    "fig.autofmt_xdate()"
   ]
  },
  {
   "cell_type": "markdown",
   "metadata": {},
   "source": [
    "# Resample data "
   ]
  },
  {
   "cell_type": "code",
   "execution_count": 2650,
   "metadata": {},
   "outputs": [
    {
     "data": {
      "text/plain": [
       " 0    23933\n",
       " 1    19777\n",
       "-1    15223\n",
       "Name: label_week, dtype: int64"
      ]
     },
     "execution_count": 2650,
     "metadata": {},
     "output_type": "execute_result"
    }
   ],
   "source": [
    "# resample training data to get similar amount in the 3 labels\n",
    "\n",
    "# Separate majority and minority classes\n",
    "df_majority = df_m[df_m.label_week==0]\n",
    "df_minority = df_m[df_m.label_week!=0]\n",
    "\n",
    "# Upsample minority class\n",
    "df_minority_upsampled = resample(df_minority, \n",
    "                                 replace=True,     # sample with replacement\n",
    "                                 n_samples=35000,    # to match majority class\n",
    "                                 random_state=123) # reproducible results\n",
    " \n",
    "# Combine majority class with upsampled minority class\n",
    "df_upsampled = pd.concat([df_majority, df_minority_upsampled])\n",
    " \n",
    "# Display new class counts\n",
    "df_upsampled.label_week.value_counts()"
   ]
  },
  {
   "cell_type": "code",
   "execution_count": 2651,
   "metadata": {},
   "outputs": [],
   "source": [
    "#df_upsampled.to_csv('/Users/otar/Google Drive/StocksAndNews/data_resampled.csv')"
   ]
  },
  {
   "cell_type": "code",
   "execution_count": 2652,
   "metadata": {},
   "outputs": [],
   "source": [
    "features = ['compound',\n",
    "            '30ma', '7ma',\n",
    "            '7ma_pct',\n",
    "            '7ma_pct_corr',\n",
    "            '7ma_comp']\n",
    "\n",
    "def preprocess_for_ml(df):\n",
    "    dfy = df['label_day']\n",
    "    dfx = df[features]\n",
    "    \n",
    "    X_tr, X_te, y_tr, y_te = train_test_split(dfx, dfy, test_size=0.2, random_state=42)\n",
    "    \n",
    "    return X_tr, X_te, y_tr, y_te"
   ]
  },
  {
   "cell_type": "code",
   "execution_count": 2653,
   "metadata": {},
   "outputs": [],
   "source": [
    "#dfx = main_df[(main_df.ticker_x=='AAPL')]\n",
    "#dfx = main_df[main_df['ticker_x'].isin(['AAPL','GOOGL'])]\n",
    "#dfx = main_df[main_df['ticker_x'].isin(corr_aapl_ticker)]\n",
    "#dfx = df_m\n",
    "dfx = df_m[df_m['ticker_x'].isin(corr_aapl_ticker)]\n",
    "#dfx = df_upsampled\n",
    "X_train, X_test, y_train, y_test = preprocess_for_ml(dfx)"
   ]
  },
  {
   "cell_type": "code",
   "execution_count": 2654,
   "metadata": {},
   "outputs": [
    {
     "data": {
      "text/plain": [
       "Index(['ANSS', 'ASML', 'GOOGL', 'JPM', 'MCO', 'MSFT', 'SHW', 'SNE', 'SPGI',\n",
       "       'SYY'],\n",
       "      dtype='object', name='ticker')"
      ]
     },
     "execution_count": 2654,
     "metadata": {},
     "output_type": "execute_result"
    }
   ],
   "source": [
    "corr_aapl_ticker"
   ]
  },
  {
   "cell_type": "raw",
   "metadata": {},
   "source": [
    "dfx = main_df[(main_df.ticker_x=='AAPL') | (main_df.ticker_x=='MSFT')]\n",
    "#dfx = df_m\n",
    "#dfx = df_upsampled"
   ]
  },
  {
   "cell_type": "code",
   "execution_count": 2655,
   "metadata": {},
   "outputs": [
    {
     "data": {
      "text/plain": [
       "((2412, 6), (604, 6), (2412,), (604,))"
      ]
     },
     "execution_count": 2655,
     "metadata": {},
     "output_type": "execute_result"
    }
   ],
   "source": [
    "X_train.shape, X_test.shape, y_train.shape, y_test.shape"
   ]
  },
  {
   "cell_type": "code",
   "execution_count": 2656,
   "metadata": {},
   "outputs": [
    {
     "data": {
      "text/plain": [
       " 0    548\n",
       "-1     28\n",
       " 1     28\n",
       "Name: label_day, dtype: int64"
      ]
     },
     "execution_count": 2656,
     "metadata": {},
     "output_type": "execute_result"
    }
   ],
   "source": [
    "y_test.value_counts()"
   ]
  },
  {
   "cell_type": "code",
   "execution_count": 2657,
   "metadata": {},
   "outputs": [
    {
     "data": {
      "text/html": [
       "<div>\n",
       "<style scoped>\n",
       "    .dataframe tbody tr th:only-of-type {\n",
       "        vertical-align: middle;\n",
       "    }\n",
       "\n",
       "    .dataframe tbody tr th {\n",
       "        vertical-align: top;\n",
       "    }\n",
       "\n",
       "    .dataframe thead th {\n",
       "        text-align: right;\n",
       "    }\n",
       "</style>\n",
       "<table border=\"1\" class=\"dataframe\">\n",
       "  <thead>\n",
       "    <tr style=\"text-align: right;\">\n",
       "      <th></th>\n",
       "      <th>compound</th>\n",
       "      <th>30ma</th>\n",
       "      <th>7ma</th>\n",
       "      <th>7ma_pct</th>\n",
       "      <th>7ma_pct_corr</th>\n",
       "      <th>7ma_comp</th>\n",
       "    </tr>\n",
       "  </thead>\n",
       "  <tbody>\n",
       "    <tr>\n",
       "      <th>76321</th>\n",
       "      <td>-0.003013</td>\n",
       "      <td>94.118147</td>\n",
       "      <td>94.960773</td>\n",
       "      <td>0.009989</td>\n",
       "      <td>0.016058</td>\n",
       "      <td>0.006986</td>\n",
       "    </tr>\n",
       "    <tr>\n",
       "      <th>76136</th>\n",
       "      <td>0.200950</td>\n",
       "      <td>104.206092</td>\n",
       "      <td>104.998087</td>\n",
       "      <td>0.008731</td>\n",
       "      <td>0.009075</td>\n",
       "      <td>0.496729</td>\n",
       "    </tr>\n",
       "    <tr>\n",
       "      <th>48769</th>\n",
       "      <td>-0.016133</td>\n",
       "      <td>799.650667</td>\n",
       "      <td>804.758571</td>\n",
       "      <td>-0.002452</td>\n",
       "      <td>0.002695</td>\n",
       "      <td>-0.066100</td>\n",
       "    </tr>\n",
       "    <tr>\n",
       "      <th>76564</th>\n",
       "      <td>0.158533</td>\n",
       "      <td>132.573632</td>\n",
       "      <td>130.850320</td>\n",
       "      <td>0.020734</td>\n",
       "      <td>0.007488</td>\n",
       "      <td>0.139100</td>\n",
       "    </tr>\n",
       "    <tr>\n",
       "      <th>49365</th>\n",
       "      <td>-0.031733</td>\n",
       "      <td>1193.944999</td>\n",
       "      <td>1211.519967</td>\n",
       "      <td>0.009168</td>\n",
       "      <td>0.003155</td>\n",
       "      <td>-0.312000</td>\n",
       "    </tr>\n",
       "  </tbody>\n",
       "</table>\n",
       "</div>"
      ],
      "text/plain": [
       "       compound         30ma          7ma   7ma_pct  7ma_pct_corr  7ma_comp\n",
       "76321 -0.003013    94.118147    94.960773  0.009989      0.016058  0.006986\n",
       "76136  0.200950   104.206092   104.998087  0.008731      0.009075  0.496729\n",
       "48769 -0.016133   799.650667   804.758571 -0.002452      0.002695 -0.066100\n",
       "76564  0.158533   132.573632   130.850320  0.020734      0.007488  0.139100\n",
       "49365 -0.031733  1193.944999  1211.519967  0.009168      0.003155 -0.312000"
      ]
     },
     "execution_count": 2657,
     "metadata": {},
     "output_type": "execute_result"
    }
   ],
   "source": [
    "X_train.head()"
   ]
  },
  {
   "cell_type": "code",
   "execution_count": 2658,
   "metadata": {},
   "outputs": [
    {
     "data": {
      "image/png": "[encoded data removed]",
      "text/plain": [
       "<Figure size 288x288 with 2 Axes>"
      ]
     },
     "metadata": {
      "needs_background": "light"
     },
     "output_type": "display_data"
    }
   ],
   "source": [
    "X_train.corr()\n",
    "plt.matshow(X_train.corr())\n",
    "plt.colorbar()\n",
    "plt.show()"
   ]
  },
  {
   "cell_type": "markdown",
   "metadata": {},
   "source": [
    "# Random Forest"
   ]
  },
  {
   "cell_type": "code",
   "execution_count": 2659,
   "metadata": {},
   "outputs": [],
   "source": [
    "def run_classifier(model, train_features, train_labels):\n",
    "    print('Start model training')\n",
    "    model.fit(train_features,train_labels)\n",
    "    print('Model trained!')"
   ]
  },
  {
   "cell_type": "code",
   "execution_count": 2660,
   "metadata": {},
   "outputs": [],
   "source": [
    "def evaluate(model, modelname, test_features, test_labels):\n",
    "    predictions = model.predict(test_features)\n",
    "    accuracy = model.score(test_features, test_labels)*100\n",
    "    errors = abs(predictions - test_labels)\n",
    "    proba = model.predict_proba(test_features)\n",
    "    \n",
    "    print('Model Performance for:', modelname)\n",
    "    print('Average Error: {:0.4f} degrees.'.format(np.mean(errors)))\n",
    "    print('Accuracy = {:0.2f}%.'.format(accuracy))\n",
    "    print( Counter(predictions), Counter(test_labels))\n",
    "    print('LOG_LOSS: ', log_loss(test_labels,proba))\n",
    "    print('ROC_AUC_ovo: ', roc_auc_score(test_labels, proba, multi_class='ovo'))\n",
    "    print('ROC_AUC_ovr: ', roc_auc_score(test_labels, proba, multi_class='ovr'))\n",
    "    \n",
    "    pd.Series(model.feature_importances_).nlargest(20).plot(kind='bar')\n",
    "    \n",
    "    return accuracy"
   ]
  },
  {
   "cell_type": "code",
   "execution_count": 2663,
   "metadata": {},
   "outputs": [],
   "source": [
    "#clf = RandomForestClassifier(n_estimators=500, max_depth=20, random_state=1, class_weight='balanced')\n",
    "clf = RandomForestClassifier(n_estimators=500, max_depth=20, random_state=1)\n",
    "modelx = xgb.XGBClassifier(n_estimators=200, max_depth=10, random_state=1)\n",
    "gb = GradientBoostingClassifier(n_estimators=200, max_depth=10, random_state=1)\n",
    "#best_rf = RandomForestClassifier(n_estimators=2000, max_depth=50, random_state=1)"
   ]
  },
  {
   "cell_type": "code",
   "execution_count": 2664,
   "metadata": {},
   "outputs": [
    {
     "name": "stdout",
     "output_type": "stream",
     "text": [
      "Start model training\n",
      "Model trained!\n",
      "Model Performance for: RF_base\n",
      "Average Error: 0.0993 degrees.\n",
      "Accuracy = 90.23%.\n",
      "Counter({0: 600, 1: 3, -1: 1}) Counter({0: 548, -1: 28, 1: 28})\n",
      "LOG_LOSS:  0.4046330443742102\n",
      "ROC_AUC_ovo:  0.5654172252842743\n",
      "ROC_AUC_ovr:  0.5834154018460587\n",
      "CPU times: user 2.72 s, sys: 30.3 ms, total: 2.75 s\n",
      "Wall time: 2.77 s\n"
     ]
    },
    {
     "data": {
      "image/png": "[encoded data removed]",
      "text/plain": [
       "<Figure size 432x288 with 1 Axes>"
      ]
     },
     "metadata": {
      "needs_background": "light"
     },
     "output_type": "display_data"
    }
   ],
   "source": [
    "%%time\n",
    "run_classifier(clf, X_train, y_train)\n",
    "clf_acc = evaluate(clf, 'RF_base', X_test, y_test)"
   ]
  },
  {
   "cell_type": "raw",
   "metadata": {},
   "source": [
    "predictions_train = clf.predict(X_train)\n",
    "accuracy_train = clf.score(X_train, y_train)*100"
   ]
  },
  {
   "cell_type": "raw",
   "metadata": {},
   "source": [
    "accuracy_train"
   ]
  },
  {
   "cell_type": "markdown",
   "metadata": {},
   "source": [
    "# XGBOOST"
   ]
  },
  {
   "cell_type": "code",
   "execution_count": 2638,
   "metadata": {},
   "outputs": [
    {
     "name": "stdout",
     "output_type": "stream",
     "text": [
      "Start model training\n",
      "Model trained!\n",
      "Model Performance for: XGB\n",
      "Average Error: 0.1060 degrees.\n",
      "Accuracy = 89.74%.\n",
      "Counter({0: 592, 1: 9, -1: 3}) Counter({0: 548, -1: 28, 1: 28})\n",
      "LOG_LOSS:  0.47291615827189104\n",
      "ROC_AUC_ovo:  0.5312887928894185\n",
      "ROC_AUC_ovr:  0.549532118960723\n",
      "CPU times: user 2.68 s, sys: 31.2 ms, total: 2.71 s\n",
      "Wall time: 2.79 s\n"
     ]
    },
    {
     "data": {
      "image/png": "[encoded data removed]",
      "text/plain": [
       "<Figure size 432x288 with 1 Axes>"
      ]
     },
     "metadata": {
      "needs_background": "light"
     },
     "output_type": "display_data"
    }
   ],
   "source": [
    "%%time\n",
    "\n",
    "run_classifier(modelx, X_train, y_train)\n",
    "modelx_acc = evaluate(modelx, 'XGB', X_test, y_test)\n",
    "#modelx.fit(X_train, y_train)"
   ]
  },
  {
   "cell_type": "code",
   "execution_count": 2639,
   "metadata": {},
   "outputs": [
    {
     "name": "stdout",
     "output_type": "stream",
     "text": [
      "Start model training\n",
      "Model trained!\n",
      "Model Performance for: GBoost\n",
      "Average Error: 0.1026 degrees.\n",
      "Accuracy = 89.90%.\n",
      "Counter({0: 594, -1: 6, 1: 4}) Counter({0: 548, -1: 28, 1: 28})\n",
      "LOG_LOSS:  0.6704995831810666\n",
      "ROC_AUC_ovo:  0.5692778936392074\n",
      "ROC_AUC_ovr:  0.5821531458791952\n",
      "CPU times: user 8.23 s, sys: 39.6 ms, total: 8.27 s\n",
      "Wall time: 8.33 s\n"
     ]
    },
    {
     "data": {
      "image/png": "[encoded data removed]",
      "text/plain": [
       "<Figure size 432x288 with 1 Axes>"
      ]
     },
     "metadata": {
      "needs_background": "light"
     },
     "output_type": "display_data"
    }
   ],
   "source": [
    "%%time\n",
    "run_classifier(gb, X_train, y_train)\n",
    "gb_acc = evaluate(gb, 'GBoost', X_test, y_test)"
   ]
  },
  {
   "cell_type": "raw",
   "metadata": {},
   "source": [
    "skplt.metrics.plot_confusion_matrix(y_test, clf.predict(X_test), normalize=True)\n",
    "ax.set_ylim(-2,1)"
   ]
  },
  {
   "cell_type": "raw",
   "metadata": {},
   "source": [
    "#cm_fig = skplt.metrics.plot_confusion_matrix(y_test, clf.predict(X_test), normalize=True)\n",
    "fig, axs = plt.subplots(1, 1, figsize=(10,10))\n",
    "skplt.metrics.plot_confusion_matrix(y_test, clf.predict(X_test), normalize=True, ax=axs)\n",
    "axs.set_ylim(-1.5,2.5)"
   ]
  },
  {
   "cell_type": "code",
   "execution_count": 1275,
   "metadata": {},
   "outputs": [],
   "source": [
    "# Import your necessary dependencies\n",
    "from sklearn.feature_selection import RFE\n",
    "from sklearn.linear_model import LogisticRegression"
   ]
  },
  {
   "cell_type": "code",
   "execution_count": 1318,
   "metadata": {},
   "outputs": [
    {
     "name": "stdout",
     "output_type": "stream",
     "text": [
      "Num Features: 3\n",
      "Selected Features: [False False False False False  True  True False False False  True False\n",
      " False False False False False]\n",
      "Feature Ranking: [14 15 10 13 12  1  1  4  8 11  1  2  5  6  3  7  9]\n"
     ]
    }
   ],
   "source": [
    "model_f = modelx\n",
    "rfe = RFE(model_f, 3)\n",
    "fit = rfe.fit(X_train, y_train)\n",
    "print(\"Num Features: %s\" % (fit.n_features_))\n",
    "print(\"Selected Features: %s\" % (fit.support_))\n",
    "print(\"Feature Ranking: %s\" % (fit.ranking_))"
   ]
  },
  {
   "cell_type": "markdown",
   "metadata": {},
   "source": [
    "# Test example"
   ]
  },
  {
   "cell_type": "code",
   "execution_count": 2640,
   "metadata": {},
   "outputs": [],
   "source": [
    "def predict_for_test(model, df):\n",
    "    dfy_val = df['label_day']\n",
    "    dfx_val = df[features]\n",
    "    \n",
    "    \n",
    "    predictions = model.predict(dfx_val)\n",
    "    \n",
    "    return predictions, dfy_val"
   ]
  },
  {
   "cell_type": "code",
   "execution_count": 2641,
   "metadata": {},
   "outputs": [],
   "source": [
    "\"\"\"\n",
    "Index(['ADBE', 'AMGN', 'ASML', 'AXP', 'BAC', 'BX', 'CBRE', 'CME', 'COST',\n",
    "       'GOOGL', 'HD', 'HUM', 'JPM', 'LMT', 'MA', 'MCD', 'MSFT', 'NDAQ', 'NKE',\n",
    "       'NOC', 'WMT'],\n",
    "      dtype='object', name='ticker_x')\n",
    "\"\"\"\n",
    "#dfx = df_m[df_m['ticker_x'].isin(corr_aapl_ticker)]\n",
    "ex_comp = ['AAPL']\n",
    "#df_test = main_df[main_df.ticker_x==ex_comp][-120:]\n",
    "df_test = df_m[df_m['ticker_x'].isin(ex_comp)]\n",
    "\n",
    "pred_x, y_test = predict_for_test(clf, df_test)\n",
    "#pred_x_x, y_test = predict_for_test(modelx, df_test)\n",
    "#pred_x_gb, y_test = predict_for_test(gb, df_test)"
   ]
  },
  {
   "cell_type": "code",
   "execution_count": 2642,
   "metadata": {},
   "outputs": [
    {
     "data": {
      "text/plain": [
       "0.5637254901960784"
      ]
     },
     "execution_count": 2642,
     "metadata": {},
     "output_type": "execute_result"
    }
   ],
   "source": [
    "(y_test==pred_x).sum()/len(pred_x)"
   ]
  },
  {
   "cell_type": "code",
   "execution_count": 2643,
   "metadata": {},
   "outputs": [],
   "source": [
    "#(y_test==pred_x).sum()/len(pred_x),(y_test==pred_x_x).sum()/len(pred_x_x),(y_test==pred_x_gb).sum()/len(pred_x_gb)"
   ]
  },
  {
   "cell_type": "code",
   "execution_count": 2644,
   "metadata": {},
   "outputs": [
    {
     "data": {
      "text/plain": [
       "(120, 52)"
      ]
     },
     "execution_count": 2644,
     "metadata": {},
     "output_type": "execute_result"
    }
   ],
   "source": [
    "df_plot = df_test[-120:]\n",
    "plot_x = pred_x[-120:]\n",
    "plot_y = y_test[-120:]\n",
    "df_plot.shape"
   ]
  },
  {
   "cell_type": "code",
   "execution_count": 2645,
   "metadata": {},
   "outputs": [
    {
     "data": {
      "image/png": "[encoded data removed]",
      "text/plain": [
       "<Figure size 2160x1296 with 2 Axes>"
      ]
     },
     "metadata": {
      "needs_background": "light"
     },
     "output_type": "display_data"
    }
   ],
   "source": [
    "\n",
    "# plot multiple graphs, visualizing different features\n",
    "fig, axs = plt.subplots(2, 1, figsize=(30,18))\n",
    "axs[0].plot(df_plot['index'], plot_x, df_plot['index'], plot_y, marker='o')\n",
    "axs[0].set_title('comp_aggr', fontsize=12)\n",
    "axs[0].grid(True)\n",
    "\n",
    "axs[1].plot(df_plot['index'], df_plot['Open'])\n",
    "axs[1].set_title('comp_aggr', fontsize=12)\n",
    "axs[1].grid(True)\n",
    "\n",
    "\n",
    "fig.autofmt_xdate()"
   ]
  },
  {
   "cell_type": "code",
   "execution_count": null,
   "metadata": {},
   "outputs": [],
   "source": []
  },
  {
   "cell_type": "markdown",
   "metadata": {},
   "source": [
    "{'n_estimators': 2000,\n",
    " 'min_samples_split': 2,\n",
    " 'min_samples_leaf': 2,\n",
    " 'max_features': 'auto',\n",
    " 'max_depth': 50,\n",
    " 'bootstrap': False}"
   ]
  },
  {
   "cell_type": "markdown",
   "metadata": {},
   "source": [
    "# Gradient Boosting"
   ]
  },
  {
   "cell_type": "code",
   "execution_count": 52,
   "metadata": {},
   "outputs": [
    {
     "name": "stdout",
     "output_type": "stream",
     "text": [
      "CPU times: user 6min 19s, sys: 2.93 s, total: 6min 22s\n",
      "Wall time: 4min 40s\n"
     ]
    },
    {
     "data": {
      "text/plain": [
       "GradientBoostingClassifier(ccp_alpha=0.0, criterion='friedman_mse', init=None,\n",
       "                           learning_rate=0.1, loss='deviance', max_depth=15,\n",
       "                           max_features=None, max_leaf_nodes=None,\n",
       "                           min_impurity_decrease=0.0, min_impurity_split=None,\n",
       "                           min_samples_leaf=1, min_samples_split=2,\n",
       "                           min_weight_fraction_leaf=0.0, n_estimators=200,\n",
       "                           n_iter_no_change=None, presort='deprecated',\n",
       "                           random_state=1, subsample=1.0, tol=0.0001,\n",
       "                           validation_fraction=0.1, verbose=0,\n",
       "                           warm_start=False)"
      ]
     },
     "execution_count": 52,
     "metadata": {},
     "output_type": "execute_result"
    }
   ],
   "source": [
    "%%time\n",
    "gb.fit(X_train, y_train)"
   ]
  },
  {
   "cell_type": "code",
   "execution_count": 53,
   "metadata": {},
   "outputs": [],
   "source": [
    "pred_gb = gb.predict(X_test)"
   ]
  },
  {
   "cell_type": "code",
   "execution_count": 54,
   "metadata": {},
   "outputs": [
    {
     "data": {
      "text/plain": [
       "(Counter({0: 9947, -1: 1363, 1: 616}), Counter({0: 6710, -1: 2923, 1: 2293}))"
      ]
     },
     "execution_count": 54,
     "metadata": {},
     "output_type": "execute_result"
    }
   ],
   "source": [
    "Counter(pred_gb), Counter(y_test)"
   ]
  },
  {
   "cell_type": "code",
   "execution_count": 55,
   "metadata": {},
   "outputs": [
    {
     "data": {
      "text/plain": [
       "0.5862820727821566"
      ]
     },
     "execution_count": 55,
     "metadata": {},
     "output_type": "execute_result"
    }
   ],
   "source": [
    "gb.score(X_test, y_test)"
   ]
  },
  {
   "cell_type": "code",
   "execution_count": 56,
   "metadata": {},
   "outputs": [],
   "source": [
    "proba_gb = gb.predict_proba(X_test)\n",
    "#proba_gb, pred_gb"
   ]
  },
  {
   "cell_type": "code",
   "execution_count": 57,
   "metadata": {},
   "outputs": [
    {
     "data": {
      "text/plain": [
       "1.044434914633104"
      ]
     },
     "execution_count": 57,
     "metadata": {},
     "output_type": "execute_result"
    }
   ],
   "source": [
    "log_loss(y_test,proba_gb)"
   ]
  },
  {
   "cell_type": "code",
   "execution_count": 58,
   "metadata": {},
   "outputs": [
    {
     "data": {
      "text/plain": [
       "0.6646788896429009"
      ]
     },
     "execution_count": 58,
     "metadata": {},
     "output_type": "execute_result"
    }
   ],
   "source": [
    "roc_auc_score(y_test, proba_gb, multi_class='ovo')"
   ]
  },
  {
   "cell_type": "code",
   "execution_count": 59,
   "metadata": {},
   "outputs": [
    {
     "data": {
      "text/plain": [
       "<matplotlib.axes._subplots.AxesSubplot at 0x7ffe1b068320>"
      ]
     },
     "execution_count": 59,
     "metadata": {},
     "output_type": "execute_result"
    },
    {
     "data": {
      "image/png": "[encoded data removed]",
      "text/plain": [
       "<Figure size 432x288 with 1 Axes>"
      ]
     },
     "metadata": {
      "needs_background": "light"
     },
     "output_type": "display_data"
    }
   ],
   "source": [
    "(pd.Series(gb.feature_importances_).nlargest(14).plot(kind='bar'))"
   ]
  },
  {
   "cell_type": "raw",
   "metadata": {},
   "source": [
    "pred_tsla_gb = gb.predict(df_tsla_pred)\n",
    "print(gb.score(df_tsla_pred, df_tsla_lab))\n",
    "Counter(pred_tsla_gb), Counter(df_tsla_lab)"
   ]
  },
  {
   "cell_type": "raw",
   "metadata": {},
   "source": [
    "\n",
    "# Number of trees in random forest\n",
    "n_estimators = [int(x) for x in np.linspace(start = 200, stop = 2000, num = 10)]\n",
    "# Number of features to consider at every split\n",
    "max_features = ['auto', 'sqrt']\n",
    "# Maximum number of levels in tree\n",
    "max_depth = [int(x) for x in np.linspace(10, 110, num = 11)]\n",
    "max_depth.append(None)\n",
    "# Minimum number of samples required to split a node\n",
    "min_samples_split = [2, 5, 10]\n",
    "# Minimum number of samples required at each leaf node\n",
    "min_samples_leaf = [1, 2, 4]\n",
    "# Method of selecting samples for training each tree\n",
    "bootstrap = [True, False]\n",
    "# Create the random grid\n",
    "random_grid = {'n_estimators': n_estimators,\n",
    "               'max_features': max_features,\n",
    "               'max_depth': max_depth,\n",
    "               'min_samples_split': min_samples_split,\n",
    "               'min_samples_leaf': min_samples_leaf,\n",
    "               'bootstrap': bootstrap}\n",
    "\n",
    "random_grid"
   ]
  },
  {
   "cell_type": "raw",
   "metadata": {},
   "source": [
    "# Use the random grid to search for best hyperparameters\n",
    "# First create the base model to tune\n",
    "rf = RandomForestClassifier()\n",
    "# Random search of parameters, using 3 fold cross validation, \n",
    "# search across 100 different combinations, and use all available cores\n",
    "rf_random = RandomizedSearchCV(estimator = rf, param_distributions = random_grid, n_iter = 10, cv = 2, verbose=2, random_state=42, n_jobs = -1)\n",
    "# Fit the random search model\n",
    "rf_random.fit(X_train, y_train)"
   ]
  },
  {
   "cell_type": "raw",
   "metadata": {},
   "source": [
    "rf_random.best_params_"
   ]
  }
 ],
 "metadata": {
  "kernelspec": {
   "display_name": "Python 3",
   "language": "python",
   "name": "python3"
  },
  "language_info": {
   "codemirror_mode": {
    "name": "ipython",
    "version": 3
   },
   "file_extension": ".py",
   "mimetype": "text/x-python",
   "name": "python",
   "nbconvert_exporter": "python",
   "pygments_lexer": "ipython3",
   "version": "3.6.9"
  }
 },
 "nbformat": 4,
 "nbformat_minor": 2
}
